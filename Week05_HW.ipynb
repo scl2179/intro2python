{
 "cells": [
  {
   "cell_type": "markdown",
   "id": "fc12cccb",
   "metadata": {},
   "source": [
    "# PfN Homework: Week 5"
   ]
  },
  {
   "cell_type": "markdown",
   "id": "37a9fd98",
   "metadata": {},
   "source": [
    "We're going to begin by reviewing some of the ways we can create arrays using numpy's inbuilt functions:"
   ]
  },
  {
   "cell_type": "code",
   "execution_count": null,
   "id": "fef5c2d0",
   "metadata": {},
   "outputs": [],
   "source": [
    "import numpy as np"
   ]
  },
  {
   "cell_type": "markdown",
   "id": "4543ea5c",
   "metadata": {},
   "source": [
    "Let's begin with ```linspace```, which allows us to evenly tile an array with elements from start to finish. We specify the number of steps the function should take. For example, try to predict what the following code will output:"
   ]
  },
  {
   "cell_type": "code",
   "execution_count": null,
   "id": "f5867d5a",
   "metadata": {},
   "outputs": [],
   "source": [
    "arr = np.linspace(0, 10, 5)\n",
    "arr"
   ]
  },
  {
   "cell_type": "markdown",
   "id": "20de1789",
   "metadata": {},
   "source": [
    "What if you want to specify the step *size* instead? Then we can use a complementary function,  ```arange```. Try to guess what ```arr``` will be once again, and then run the code to check whether you were correct."
   ]
  },
  {
   "cell_type": "code",
   "execution_count": null,
   "id": "887d3475",
   "metadata": {},
   "outputs": [],
   "source": [
    "arr = np.arange(0, 10, 2.5)\n",
    "arr"
   ]
  },
  {
   "cell_type": "markdown",
   "id": "4219a042",
   "metadata": {},
   "source": [
    "It's often useful to also create arrays that consist of the same element. For instance, we can use ```ones``` to create a numpy array of - wait for it - ones. Note here that we're creating a multidimensional array."
   ]
  },
  {
   "cell_type": "code",
   "execution_count": null,
   "id": "7794d4f9",
   "metadata": {},
   "outputs": [],
   "source": [
    "arr = np.ones((3, 4, 2))\n",
    "arr"
   ]
  },
  {
   "cell_type": "markdown",
   "id": "eeafdd1b",
   "metadata": {},
   "source": [
    "We can also do more fancy things, like create an identity matrix using ```eye```:\n"
   ]
  },
  {
   "cell_type": "code",
   "execution_count": null,
   "id": "96a9831c",
   "metadata": {},
   "outputs": [],
   "source": [
    "arr = np.eye(4)\n",
    "arr"
   ]
  },
  {
   "cell_type": "markdown",
   "id": "363cd772",
   "metadata": {},
   "source": [
    "Let's practice creating arrays below:"
   ]
  },
  {
   "cell_type": "markdown",
   "id": "88637d3c",
   "metadata": {},
   "source": [
    "## Question 1:\n",
    "A) Create a numpy array using ```linspace``` that counts up from 3 to 8 in steps of 0.5.\n",
    "\n",
    "B) Create the same array, but use ```arange```\n",
    "\n",
    "C) Using the wonders of the world wide web, please figure out how to create an array of all zeros. Make the array 3x4x5."
   ]
  },
  {
   "cell_type": "code",
   "execution_count": null,
   "id": "cb5f730e",
   "metadata": {},
   "outputs": [],
   "source": [
    "#1A"
   ]
  },
  {
   "cell_type": "code",
   "execution_count": null,
   "id": "24b1c2e6",
   "metadata": {},
   "outputs": [],
   "source": [
    "#1B"
   ]
  },
  {
   "cell_type": "code",
   "execution_count": null,
   "id": "d86d54e3",
   "metadata": {},
   "outputs": [],
   "source": [
    "#1C"
   ]
  },
  {
   "cell_type": "markdown",
   "id": "d29f3e27",
   "metadata": {},
   "source": [
    "# Putting arrays together\n",
    "\n",
    "What if we want to put arrays together? With lists this is easy: you just add them together. But, as we discussed during class, the whole point of numpy arrays is that when we add them we ... add them. Luckily, as usual, numpy has a function for that.\n",
    "\n",
    "Let's begin with the simplest example, putting two arrays together:"
   ]
  },
  {
   "cell_type": "code",
   "execution_count": null,
   "id": "ca8eae0e",
   "metadata": {},
   "outputs": [],
   "source": [
    "a = np.array([1, 2, 3])\n",
    "b = np.array([4, 5, 6])\n",
    "\n",
    "#Note that the arrays are provided here as a tuple ... this will be important later\n",
    "c = np.concatenate((a, b))\n",
    "c"
   ]
  },
  {
   "cell_type": "markdown",
   "id": "f24d5177",
   "metadata": {},
   "source": [
    "What if we want to put three arrays together? You can just provide more arrays to the tuple that is given to ```concatenate```."
   ]
  },
  {
   "cell_type": "code",
   "execution_count": null,
   "id": "94b41b29",
   "metadata": {},
   "outputs": [],
   "source": [
    "d = np.concatenate((a, b, c))\n",
    "d"
   ]
  },
  {
   "cell_type": "markdown",
   "id": "b94e9f30",
   "metadata": {},
   "source": [
    "What if we want to put arrays together, over and over again? We can use ```np.tile```"
   ]
  },
  {
   "cell_type": "code",
   "execution_count": null,
   "id": "b874285b",
   "metadata": {},
   "outputs": [],
   "source": [
    "np.tile(a, 3)"
   ]
  },
  {
   "cell_type": "markdown",
   "id": "2477754b",
   "metadata": {},
   "source": [
    "You can also use ```tile``` to stack arrays on top of each other. Here, we're telling the function to repeat array ```a``` three times, in one column."
   ]
  },
  {
   "cell_type": "code",
   "execution_count": null,
   "id": "86c8715b",
   "metadata": {},
   "outputs": [],
   "source": [
    "np.tile(a, (3,1))"
   ]
  },
  {
   "cell_type": "markdown",
   "id": "4397234a",
   "metadata": {},
   "source": [
    "Can you predict what the following code would output?"
   ]
  },
  {
   "cell_type": "code",
   "execution_count": null,
   "id": "72691e90",
   "metadata": {},
   "outputs": [],
   "source": [
    "np.tile(a, (3,2))"
   ]
  },
  {
   "cell_type": "markdown",
   "id": "371ebcf1",
   "metadata": {},
   "source": [
    "There are a ton of other functions that you can use to put arrays together, which you can use flexibly to solve the next few problems. Use the numpy documentation and a bit of googling to find the appropriate functions. As you'll see, there will be multiple ways to solve the same problem!"
   ]
  },
  {
   "cell_type": "markdown",
   "id": "e10f48bb",
   "metadata": {},
   "source": [
    "# Question 2"
   ]
  },
  {
   "cell_type": "markdown",
   "id": "4edc65d0",
   "metadata": {},
   "source": [
    "A) Write a function that takes in a 1D array for input and returns the same array, mirrored, stacked N times, where N is also an input to the function. For instance, given the array ```[1,2,3] ```as an input, and ```N=2```, the function would return ```[[1,2,3,3,2,1], [1,2,3,3,2,1]]```\n",
    "\n",
    "B) Write another function that takes in a 1D array for input and returns another array, with each element repeated N times. For example, given ```[1,2,3]``` and ```N=3``` the function would return ```[1,1,1,2,2,2,3,3,3]```\n"
   ]
  },
  {
   "cell_type": "code",
   "execution_count": null,
   "id": "eca34fb5",
   "metadata": {},
   "outputs": [],
   "source": [
    "#2A"
   ]
  },
  {
   "cell_type": "code",
   "execution_count": null,
   "id": "a87deb91",
   "metadata": {},
   "outputs": [],
   "source": [
    "#2B"
   ]
  }
 ],
 "metadata": {
  "kernelspec": {
   "display_name": "intropython",
   "language": "python",
   "name": "python3"
  },
  "language_info": {
   "codemirror_mode": {
    "name": "ipython",
    "version": 3
   },
   "file_extension": ".py",
   "mimetype": "text/x-python",
   "name": "python",
   "nbconvert_exporter": "python",
   "pygments_lexer": "ipython3",
   "version": "3.12.4"
  }
 },
 "nbformat": 4,
 "nbformat_minor": 5
}
