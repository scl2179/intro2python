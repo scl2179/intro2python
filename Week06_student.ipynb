{
 "cells": [
  {
   "cell_type": "markdown",
   "id": "f0951ab1",
   "metadata": {},
   "source": [
    "# **Python For Neuro Week 6**: More Numpy and Pandas\n",
    "\n",
    "## Warmup\n",
    "\n",
    "We're going to start today by loading in ```mat_1.npy``` again. If you don't remember how to do this, use google to find the right function to use. Please assign the array to variable called ```arr```."
   ]
  },
  {
   "cell_type": "code",
   "execution_count": 17,
   "id": "652ede52",
   "metadata": {},
   "outputs": [],
   "source": [
    "import numpy as np\n",
    "# load in data\n",
    "arr = np.load('ex_array.npy')"
   ]
  },
  {
   "cell_type": "markdown",
   "id": "38098018",
   "metadata": {},
   "source": [
    "## Summary operations"
   ]
  },
  {
   "cell_type": "markdown",
   "id": "de7eed1d",
   "metadata": {},
   "source": [
    "Summary operations allow you to collapse an array according to a certain summary statistic. For instance, we may want to compute the overall mean firing rate in our experimental data:"
   ]
  },
  {
   "cell_type": "code",
   "execution_count": 18,
   "id": "7a0fd990",
   "metadata": {},
   "outputs": [
    {
     "data": {
      "text/plain": [
       "np.float64(0.8717270073789575)"
      ]
     },
     "execution_count": 18,
     "metadata": {},
     "output_type": "execute_result"
    }
   ],
   "source": [
    "arr.mean()"
   ]
  },
  {
   "cell_type": "markdown",
   "id": "a54761f6",
   "metadata": {},
   "source": [
    "You can also specify the axis along we want to average. For instance, maybe we want to average firing rates across individual trials:"
   ]
  },
  {
   "cell_type": "code",
   "execution_count": 19,
   "id": "7eb77e44",
   "metadata": {},
   "outputs": [
    {
     "data": {
      "text/plain": [
       "(2, 10, 50, 2000)"
      ]
     },
     "execution_count": 19,
     "metadata": {},
     "output_type": "execute_result"
    }
   ],
   "source": [
    "arr.shape"
   ]
  },
  {
   "cell_type": "code",
   "execution_count": 20,
   "id": "fb024f5e",
   "metadata": {},
   "outputs": [
    {
     "name": "stdout",
     "output_type": "stream",
     "text": [
      "[[[[1.06735651e-01 8.50013428e-01 6.61261976e-02 ... 1.22214287e+00\n",
      "    1.85433810e+00 2.97715561e-02]\n",
      "   [1.74584281e+00 1.04634545e+00 1.19461252e+00 ... 3.86994751e-01\n",
      "    1.46257796e-01 5.57668861e-01]\n",
      "   [1.27660851e+00 1.63782002e+00 1.73077654e+00 ... 2.69178437e-01\n",
      "    8.87518742e-01 4.97409664e-01]\n",
      "   ...\n",
      "   [1.33977689e-01 1.61987886e-01 4.46480597e-01 ... 4.39952432e-01\n",
      "    6.42594250e-01 1.23527806e+00]\n",
      "   [2.47564259e+00 1.69413446e+00 2.12417460e+00 ... 2.61901093e+00\n",
      "    3.11246504e+00 1.92026681e+00]\n",
      "   [7.29644202e-01 2.04679777e+00 1.37959358e+00 ... 1.74199210e+00\n",
      "    2.11039000e+00 8.98703266e-01]]\n",
      "\n",
      "  [[8.10785116e-01 9.33062418e-01 2.59379116e-01 ... 1.31543734e+00\n",
      "    1.29622586e+00 1.23752785e+00]\n",
      "   [5.66745857e-01 7.88732871e-01 1.09353632e+00 ... 4.95212124e-01\n",
      "    2.18896547e-01 5.55039361e-01]\n",
      "   [8.82901511e-01 6.86934256e-01 1.25065050e+00 ... 9.04460497e-01\n",
      "    4.60074219e-01 4.38216968e-01]\n",
      "   ...\n",
      "   [3.64492211e-02 5.71047168e-01 4.95341715e-01 ... 5.94040232e-01\n",
      "    2.81351456e-01 1.92476435e-01]\n",
      "   [1.60489624e+00 2.55631543e+00 1.83915545e+00 ... 1.86179063e+00\n",
      "    2.80563694e+00 2.79426859e+00]\n",
      "   [9.75789829e-01 8.10281871e-01 1.88447041e+00 ... 1.57769368e+00\n",
      "    1.54307961e+00 6.51189685e-01]]\n",
      "\n",
      "  [[6.19660685e-01 1.44403366e+00 7.25177566e-01 ... 6.20651303e-01\n",
      "    1.42247153e+00 7.29649784e-01]\n",
      "   [6.41739089e-01 1.09248843e+00 6.12499482e-01 ... 3.01528474e-02\n",
      "    8.91203448e-01 5.17133740e-01]\n",
      "   [8.63585737e-01 2.28749716e+00 4.85666591e-01 ... 6.21059372e-01\n",
      "    1.59913527e+00 1.92070807e-01]\n",
      "   ...\n",
      "   [4.60671880e-02 2.28272310e-01 4.62451462e-01 ... 7.30626059e-01\n",
      "    2.28374302e-01 8.20578498e-01]\n",
      "   [2.24037994e+00 1.87346609e+00 1.96502239e+00 ... 2.30925982e+00\n",
      "    2.73748694e+00 3.56089223e+00]\n",
      "   [1.15148873e+00 1.41458661e+00 2.74988839e-01 ... 1.69850755e+00\n",
      "    2.54345670e+00 9.57969052e-01]]\n",
      "\n",
      "  ...\n",
      "\n",
      "  [[9.55497777e-01 4.05692488e-01 7.78823211e-01 ... 4.43791258e-01\n",
      "    6.87757573e-01 5.78131601e-01]\n",
      "   [1.26663741e+00 7.41565718e-01 9.74565947e-01 ... 2.15431443e-01\n",
      "    9.24113093e-01 8.74765901e-01]\n",
      "   [1.04496657e+00 1.92493042e+00 1.31607491e+00 ... 6.98922972e-01\n",
      "    8.95438625e-01 1.10806420e+00]\n",
      "   ...\n",
      "   [6.99654324e-01 2.69282363e-01 7.92850753e-01 ... 5.35601623e-01\n",
      "    4.40057071e-01 7.04082232e-01]\n",
      "   [1.09871064e+00 2.11750396e+00 1.53713483e+00 ... 2.86583586e+00\n",
      "    3.47881123e+00 3.05170785e+00]\n",
      "   [3.69099007e-01 1.16270356e+00 8.22229789e-01 ... 2.00224509e+00\n",
      "    1.19915351e+00 1.22389634e+00]]\n",
      "\n",
      "  [[3.11573355e-01 1.51960656e-01 5.29449173e-01 ... 6.33654814e-01\n",
      "    3.12155650e-01 1.01504149e+00]\n",
      "   [9.42519337e-01 1.04800726e+00 1.63077267e+00 ... 4.79538390e-01\n",
      "    1.03940589e-01 9.05743971e-02]\n",
      "   [1.19313923e+00 1.22524628e+00 3.62692199e-01 ... 6.16737539e-01\n",
      "    8.57896422e-01 5.95661545e-01]\n",
      "   ...\n",
      "   [8.41454520e-01 8.82117892e-01 4.65736573e-01 ... 1.03254191e-01\n",
      "    4.11728563e-01 1.06655410e+00]\n",
      "   [2.15288862e+00 2.61116280e+00 1.23073274e+00 ... 3.14561085e+00\n",
      "    2.54466767e+00 2.29104980e+00]\n",
      "   [9.32792623e-01 4.64622171e-02 1.31732630e-02 ... 5.72939548e-01\n",
      "    1.47857618e+00 1.61403092e+00]]\n",
      "\n",
      "  [[2.96414144e-01 4.74658017e-01 4.86034112e-01 ... 1.24119716e+00\n",
      "    1.02560792e+00 6.99381685e-02]\n",
      "   [2.45578871e-01 9.72493408e-01 6.85815899e-01 ... 1.21941180e+00\n",
      "    3.94689580e-02 1.06002195e+00]\n",
      "   [1.06888772e+00 1.03998709e+00 5.94912554e-01 ... 5.40154953e-01\n",
      "    1.23705182e+00 9.19751909e-01]\n",
      "   ...\n",
      "   [1.22671728e-01 1.13569313e+00 3.96736647e-01 ... 7.08612961e-01\n",
      "    3.40179265e-01 2.84325578e-01]\n",
      "   [2.68919282e+00 1.62010451e+00 2.16018710e+00 ... 2.26321643e+00\n",
      "    2.73687475e+00 2.97793205e+00]\n",
      "   [1.21707154e+00 9.93321595e-01 4.62796380e-01 ... 9.32653283e-01\n",
      "    1.49190891e+00 3.85913177e-01]]]\n",
      "\n",
      "\n",
      " [[[2.68590510e-01 2.30938942e-01 1.11291647e-01 ... 1.00705680e+00\n",
      "    8.70754882e-02 1.14350863e+00]\n",
      "   [5.82279235e-02 1.10962135e+00 8.51835813e-02 ... 1.03139505e+00\n",
      "    1.63482156e+00 1.11174878e+00]\n",
      "   [9.06890013e-01 5.50327346e-02 7.62236843e-01 ... 9.21268222e-01\n",
      "    1.90022263e+00 6.61490516e-01]\n",
      "   ...\n",
      "   [1.51639677e+00 1.10525057e+00 1.28482807e+00 ... 2.57239506e-01\n",
      "    9.24481867e-01 3.92576453e-02]\n",
      "   [2.49070708e-01 3.90644969e-01 5.20414552e-01 ... 1.86726568e+00\n",
      "    1.27748159e+00 2.17643888e+00]\n",
      "   [5.91814935e-01 5.71087254e-01 1.09062933e-02 ... 1.46242912e+00\n",
      "    1.80839002e+00 2.04738543e+00]]\n",
      "\n",
      "  [[1.73767085e-01 7.40042900e-01 2.78446025e-01 ... 1.05837816e+00\n",
      "    6.77328273e-01 1.56612974e-01]\n",
      "   [9.00464475e-01 4.02457504e-01 7.61508157e-03 ... 1.72340487e+00\n",
      "    1.13894979e+00 2.29214611e+00]\n",
      "   [6.22657174e-01 7.83905709e-01 8.40142591e-01 ... 7.31516128e-01\n",
      "    1.16098239e+00 1.26106802e+00]\n",
      "   ...\n",
      "   [1.19639785e+00 1.13828750e+00 5.03092750e-01 ... 7.87866766e-01\n",
      "    8.79654787e-02 1.05014270e+00]\n",
      "   [1.41931227e-02 5.11258092e-01 9.59940873e-01 ... 2.10131355e+00\n",
      "    1.39674810e+00 2.33855928e-01]\n",
      "   [3.66130233e-01 3.83575134e-01 6.45087951e-03 ... 1.18159572e+00\n",
      "    1.78534702e+00 1.58225156e+00]]\n",
      "\n",
      "  [[2.41820446e-01 3.52803298e-02 1.20200093e-03 ... 8.19777414e-01\n",
      "    1.34275979e+00 8.63953320e-01]\n",
      "   [4.75097949e-01 2.49925250e-03 3.08800337e-01 ... 1.75929246e+00\n",
      "    1.70480331e+00 1.48698006e+00]\n",
      "   [3.08906827e-01 1.40189675e+00 5.56131336e-01 ... 8.94208173e-01\n",
      "    1.05542192e+00 3.34738546e-01]\n",
      "   ...\n",
      "   [2.15352371e-03 2.73432330e-01 1.90495544e+00 ... 1.92779139e-01\n",
      "    3.98954724e-02 2.05587640e-01]\n",
      "   [1.13341007e+00 2.87188417e-01 4.30871198e-01 ... 2.07637850e+00\n",
      "    7.41662224e-01 1.68583189e+00]\n",
      "   [1.78180596e-01 3.84837698e-01 9.15624497e-01 ... 1.23203150e+00\n",
      "    1.70276245e+00 9.83095823e-01]]\n",
      "\n",
      "  ...\n",
      "\n",
      "  [[3.89569636e-01 3.00873087e-01 8.53431463e-01 ... 8.57013324e-01\n",
      "    1.36369225e-01 1.24087619e+00]\n",
      "   [4.94280241e-01 1.35443235e+00 6.47102117e-01 ... 1.73071092e+00\n",
      "    2.22327083e+00 1.01799698e+00]\n",
      "   [6.20263170e-01 5.16823971e-02 5.67631195e-01 ... 1.13434223e+00\n",
      "    8.27817128e-01 1.21729685e+00]\n",
      "   ...\n",
      "   [9.05518098e-02 3.56601848e-01 2.07102034e-01 ... 2.49315189e-01\n",
      "    2.99937713e-02 4.06374492e-01]\n",
      "   [3.42784070e-01 1.39300508e-01 6.37277558e-01 ... 2.44155474e+00\n",
      "    1.60648029e+00 1.95879900e+00]\n",
      "   [2.66383952e-01 4.71412418e-01 1.08164395e+00 ... 1.34015508e+00\n",
      "    1.23020243e+00 4.83622781e-01]]\n",
      "\n",
      "  [[3.18500532e-01 7.61512701e-01 3.59804518e-02 ... 1.04317196e+00\n",
      "    9.51594822e-01 8.51702697e-01]\n",
      "   [9.93859542e-01 1.46168081e-02 6.46023896e-01 ... 1.30609822e+00\n",
      "    9.07064384e-01 1.37250174e+00]\n",
      "   [3.08291439e-01 5.13287435e-01 1.01602336e+00 ... 2.24185820e-01\n",
      "    1.59357335e+00 1.23510383e-01]\n",
      "   ...\n",
      "   [5.67971125e-01 1.50062345e-01 1.15136120e+00 ... 4.40309528e-01\n",
      "    6.10097909e-01 7.99559953e-01]\n",
      "   [2.25445960e-01 8.83610274e-01 1.55805912e+00 ... 1.05116421e+00\n",
      "    9.41952733e-01 1.89087367e+00]\n",
      "   [1.18310557e-01 2.16328004e-01 1.07968756e+00 ... 1.25095419e+00\n",
      "    1.82909596e+00 7.46485745e-01]]\n",
      "\n",
      "  [[1.86327569e-01 2.63246494e-01 3.07718076e-01 ... 5.22190908e-01\n",
      "    1.57517315e+00 1.66238001e+00]\n",
      "   [5.29740374e-02 3.03094705e-01 1.32193253e+00 ... 1.23435937e+00\n",
      "    1.46987233e+00 1.06123960e+00]\n",
      "   [1.46604943e+00 1.65469474e-01 4.96193813e-02 ... 1.82780350e-01\n",
      "    8.56451472e-01 3.59988247e-02]\n",
      "   ...\n",
      "   [3.99149975e-01 4.90485926e-01 4.09535316e-01 ... 4.85705593e-01\n",
      "    4.49961421e-02 8.23051290e-01]\n",
      "   [2.79906538e-01 1.79062163e-01 1.50349452e+00 ... 2.17916225e+00\n",
      "    1.19628134e+00 1.42535435e+00]\n",
      "   [5.09200681e-01 1.04974800e+00 7.44586694e-02 ... 2.55449767e+00\n",
      "    2.08818279e+00 1.34984776e+00]]]]\n",
      "[[[0.65972936 0.68679441 0.68199004 ... 0.96912439 1.07270512 0.84568177]\n",
      "  [0.79611248 0.99935367 0.88531804 ... 0.50904864 0.3364558  0.4932102 ]\n",
      "  [1.00938778 1.30849305 0.95961269 ... 0.67265484 0.94855162 0.57360145]\n",
      "  ...\n",
      "  [0.32410045 0.60430154 0.59851933 ... 0.43082814 0.35448484 0.60595627]\n",
      "  [2.20282076 2.10202105 1.72845273 ... 2.40318232 2.62285072 2.47028176]\n",
      "  [0.77735322 1.2437595  1.09964378 ... 1.38810799 1.48371474 1.22155473]]\n",
      "\n",
      " [[0.29366721 0.40403176 0.32066067 ... 1.11915401 0.79285423 1.20313501]\n",
      "  [0.54035301 0.7392684  0.70751494 ... 1.3894037  1.30790281 1.4672015 ]\n",
      "  [0.62631555 0.49423944 0.59660195 ... 0.82260387 0.99906975 0.56779008]\n",
      "  ...\n",
      "  [0.60475668 0.75494216 0.66881441 ... 0.33957372 0.47778094 0.5476308 ]\n",
      "  [0.42349661 0.39669646 0.79542393 ... 1.52273235 1.35616066 1.55100953]\n",
      "  [0.51770586 0.46192723 0.57713179 ... 1.50219293 1.53141366 1.34884422]]]\n"
     ]
    },
    {
     "data": {
      "text/plain": [
       "(2, 50, 2000)"
      ]
     },
     "execution_count": 20,
     "metadata": {},
     "output_type": "execute_result"
    }
   ],
   "source": [
    "arr_across_trials = arr.mean(axis=1)\n",
    "print(arr)\n",
    "print(arr_across_trials)\n",
    "arr_across_trials.shape"
   ]
  },
  {
   "cell_type": "markdown",
   "id": "3842743e",
   "metadata": {},
   "source": [
    "The `keepdims` argument means that you don't remove the dimensions you're averaging over, but rather set their length to 1:"
   ]
  },
  {
   "cell_type": "code",
   "execution_count": 24,
   "id": "99c9d903",
   "metadata": {},
   "outputs": [
    {
     "name": "stdout",
     "output_type": "stream",
     "text": [
      "[[[[0.65972936 0.68679441 0.68199004 ... 0.96912439 1.07270512\n",
      "    0.84568177]\n",
      "   [0.79611248 0.99935367 0.88531804 ... 0.50904864 0.3364558\n",
      "    0.4932102 ]\n",
      "   [1.00938778 1.30849305 0.95961269 ... 0.67265484 0.94855162\n",
      "    0.57360145]\n",
      "   ...\n",
      "   [0.32410045 0.60430154 0.59851933 ... 0.43082814 0.35448484\n",
      "    0.60595627]\n",
      "   [2.20282076 2.10202105 1.72845273 ... 2.40318232 2.62285072\n",
      "    2.47028176]\n",
      "   [0.77735322 1.2437595  1.09964378 ... 1.38810799 1.48371474\n",
      "    1.22155473]]]\n",
      "\n",
      "\n",
      " [[[0.29366721 0.40403176 0.32066067 ... 1.11915401 0.79285423\n",
      "    1.20313501]\n",
      "   [0.54035301 0.7392684  0.70751494 ... 1.3894037  1.30790281\n",
      "    1.4672015 ]\n",
      "   [0.62631555 0.49423944 0.59660195 ... 0.82260387 0.99906975\n",
      "    0.56779008]\n",
      "   ...\n",
      "   [0.60475668 0.75494216 0.66881441 ... 0.33957372 0.47778094\n",
      "    0.5476308 ]\n",
      "   [0.42349661 0.39669646 0.79542393 ... 1.52273235 1.35616066\n",
      "    1.55100953]\n",
      "   [0.51770586 0.46192723 0.57713179 ... 1.50219293 1.53141366\n",
      "    1.34884422]]]]\n"
     ]
    }
   ],
   "source": [
    "arr_across_trials = arr.mean(axis=1, keepdims=True)\n",
    "arr_across_trials.shape\n",
    "print(arr_across_trials)"
   ]
  },
  {
   "cell_type": "code",
   "execution_count": 26,
   "id": "da36b331",
   "metadata": {},
   "outputs": [
    {
     "data": {
      "text/plain": [
       "(2, 1, 50, 2000)"
      ]
     },
     "execution_count": 26,
     "metadata": {},
     "output_type": "execute_result"
    }
   ],
   "source": [
    "arr_across_trials.shape"
   ]
  },
  {
   "cell_type": "markdown",
   "id": "7f473586",
   "metadata": {},
   "source": [
    "You can average across multiple axes as well. For instance, maybe you want to average across both trials and time:"
   ]
  },
  {
   "cell_type": "code",
   "execution_count": 28,
   "id": "45b7f3f3",
   "metadata": {},
   "outputs": [],
   "source": [
    "arr_across_trials_and_time = arr.mean(axis=(1,3))"
   ]
  },
  {
   "cell_type": "code",
   "execution_count": 29,
   "id": "d3dbb6e2",
   "metadata": {},
   "outputs": [
    {
     "data": {
      "text/plain": [
       "(2, 50)"
      ]
     },
     "execution_count": 29,
     "metadata": {},
     "output_type": "execute_result"
    }
   ],
   "source": [
    "arr_across_trials_and_time.shape"
   ]
  },
  {
   "cell_type": "markdown",
   "id": "d03eebc0",
   "metadata": {},
   "source": [
    "### Question 1\n",
    "\n",
    "- What is the average firing rate across all neurons, times, and trials for each condition?\n",
    "- (Advanced.) Subtract the average firing rate per time across all neurons, trials, and conditions from the original array."
   ]
  },
  {
   "cell_type": "code",
   "execution_count": 34,
   "id": "5ce6e6c7",
   "metadata": {},
   "outputs": [
    {
     "name": "stdout",
     "output_type": "stream",
     "text": [
      "[[[[0.98828779]]]\n",
      "\n",
      "\n",
      " [[[0.75516623]]]]\n",
      "0.10673565077352659\n",
      "-0.8815521351172901\n"
     ]
    }
   ],
   "source": [
    "# (2, 10, 50, 2000)\n",
    "# 2 conditions\n",
    "# 10 trials\n",
    "# 50 neurons\n",
    "# 2000 timepoints\n",
    "\n",
    "arr_across_neurons_times_trials = arr.mean(axis=(1,2,3), keepdims=True)\n",
    "print(arr_across_neurons_times_trials)\n",
    "\n",
    "arr_norm = (arr - arr_across_neurons_times_trials)\n",
    "print(arr[0, 0, 0, 0])\n",
    "print(arr_norm[0, 0, 0, 0])\n"
   ]
  },
  {
   "cell_type": "markdown",
   "id": "f085ffae",
   "metadata": {},
   "source": [
    "## Indexing"
   ]
  },
  {
   "cell_type": "markdown",
   "id": "2bc54bf7",
   "metadata": {},
   "source": [
    "Indexing in vectors works just as in lists:"
   ]
  },
  {
   "cell_type": "code",
   "execution_count": 36,
   "id": "374cb0e3",
   "metadata": {},
   "outputs": [
    {
     "data": {
      "text/plain": [
       "array([25, 20, 40,  5])"
      ]
     },
     "execution_count": 36,
     "metadata": {},
     "output_type": "execute_result"
    }
   ],
   "source": [
    "lst_1 = [25, 20, 40, 5]\n",
    "vec_1 = np.array(lst_1)\n",
    "vec_1"
   ]
  },
  {
   "cell_type": "code",
   "execution_count": 37,
   "id": "96968d88",
   "metadata": {},
   "outputs": [
    {
     "data": {
      "text/plain": [
       "np.int64(25)"
      ]
     },
     "execution_count": 37,
     "metadata": {},
     "output_type": "execute_result"
    }
   ],
   "source": [
    "vec_1[0]"
   ]
  },
  {
   "cell_type": "markdown",
   "id": "54217d3a",
   "metadata": {},
   "source": [
    "For matrices and higher-dimensional arrays, a single index selects a single row:"
   ]
  },
  {
   "cell_type": "code",
   "execution_count": 39,
   "id": "953b1db4",
   "metadata": {},
   "outputs": [
    {
     "data": {
      "text/plain": [
       "array([[1, 2],\n",
       "       [3, 4],\n",
       "       [5, 6]])"
      ]
     },
     "execution_count": 39,
     "metadata": {},
     "output_type": "execute_result"
    }
   ],
   "source": [
    "lst_1 = [\n",
    "    [1, 2],\n",
    "    [3, 4],\n",
    "    [5, 6]\n",
    "]\n",
    "mat_1 = np.array(lst_1)\n",
    "mat_1"
   ]
  },
  {
   "cell_type": "code",
   "execution_count": 40,
   "id": "e8cd2075",
   "metadata": {},
   "outputs": [
    {
     "data": {
      "text/plain": [
       "array([1, 2])"
      ]
     },
     "execution_count": 40,
     "metadata": {},
     "output_type": "execute_result"
    }
   ],
   "source": [
    "mat_1[0]"
   ]
  },
  {
   "cell_type": "code",
   "execution_count": 41,
   "id": "650eda88",
   "metadata": {},
   "outputs": [
    {
     "data": {
      "text/plain": [
       "np.int64(2)"
      ]
     },
     "execution_count": 41,
     "metadata": {},
     "output_type": "execute_result"
    }
   ],
   "source": [
    "mat_1[0][1]"
   ]
  },
  {
   "cell_type": "markdown",
   "id": "24275c28",
   "metadata": {},
   "source": [
    "Instead of using two brackets, you can also separate the row and column index by a comma:"
   ]
  },
  {
   "cell_type": "code",
   "execution_count": null,
   "id": "7d60da6e",
   "metadata": {},
   "outputs": [],
   "source": [
    "# The following two lines of code are equivalent\n",
    "print(mat_1[0][0])\n",
    "print(mat_1[0,0])"
   ]
  },
  {
   "cell_type": "markdown",
   "id": "fe179cfd",
   "metadata": {},
   "source": [
    "### Slicing"
   ]
  },
  {
   "cell_type": "markdown",
   "id": "1802e2a7",
   "metadata": {},
   "source": [
    "Slicing is a useful way of extracting more than one element. In particular, `j:k` extracts the elements j,...,k-1:"
   ]
  },
  {
   "cell_type": "code",
   "execution_count": 42,
   "id": "6d8cfa38",
   "metadata": {},
   "outputs": [
    {
     "name": "stdout",
     "output_type": "stream",
     "text": [
      "[0 1 2 3 4 5 6 7 8 9]\n"
     ]
    }
   ],
   "source": [
    "vec = np.arange(10)\n",
    "print(vec)"
   ]
  },
  {
   "cell_type": "code",
   "execution_count": 43,
   "id": "8bfeb894",
   "metadata": {},
   "outputs": [
    {
     "data": {
      "text/plain": [
       "array([3, 4, 5, 6])"
      ]
     },
     "execution_count": 43,
     "metadata": {},
     "output_type": "execute_result"
    }
   ],
   "source": [
    "vec[3:7]"
   ]
  },
  {
   "cell_type": "markdown",
   "id": "a1212e86",
   "metadata": {},
   "source": [
    "We can leave either end of the range away and it will default to the beginning and the end of the list, respectively."
   ]
  },
  {
   "cell_type": "code",
   "execution_count": 44,
   "id": "3c5452cd",
   "metadata": {},
   "outputs": [
    {
     "data": {
      "text/plain": [
       "array([0, 1, 2, 3, 4, 5, 6])"
      ]
     },
     "execution_count": 44,
     "metadata": {},
     "output_type": "execute_result"
    }
   ],
   "source": [
    "vec[:7]"
   ]
  },
  {
   "cell_type": "code",
   "execution_count": 45,
   "id": "cbe43dd8",
   "metadata": {},
   "outputs": [
    {
     "data": {
      "text/plain": [
       "array([3, 4, 5, 6, 7, 8, 9])"
      ]
     },
     "execution_count": 45,
     "metadata": {},
     "output_type": "execute_result"
    }
   ],
   "source": [
    "vec[3:]"
   ]
  },
  {
   "cell_type": "code",
   "execution_count": 46,
   "id": "bf96dd64",
   "metadata": {},
   "outputs": [
    {
     "data": {
      "text/plain": [
       "array([0, 1, 2, 3, 4, 5, 6, 7, 8, 9])"
      ]
     },
     "execution_count": 46,
     "metadata": {},
     "output_type": "execute_result"
    }
   ],
   "source": [
    "vec[:] # What do you think this will do?"
   ]
  },
  {
   "cell_type": "markdown",
   "id": "7fccec03",
   "metadata": {},
   "source": [
    "You can therefore also use the colon to select all rows of a matrix and specific columns."
   ]
  },
  {
   "cell_type": "code",
   "execution_count": 47,
   "id": "9f8c9b36",
   "metadata": {},
   "outputs": [
    {
     "data": {
      "text/plain": [
       "array([[1, 2],\n",
       "       [3, 4],\n",
       "       [5, 6]])"
      ]
     },
     "execution_count": 47,
     "metadata": {},
     "output_type": "execute_result"
    }
   ],
   "source": [
    "mat_1"
   ]
  },
  {
   "cell_type": "code",
   "execution_count": 48,
   "id": "12018771",
   "metadata": {},
   "outputs": [
    {
     "data": {
      "text/plain": [
       "array([1, 3, 5])"
      ]
     },
     "execution_count": 48,
     "metadata": {},
     "output_type": "execute_result"
    }
   ],
   "source": [
    "mat_1[:,0]"
   ]
  },
  {
   "cell_type": "markdown",
   "id": "a7793ec5",
   "metadata": {},
   "source": [
    "You can add another colon to specify a step size, similarly to how you would use these three arguments in `range`."
   ]
  },
  {
   "cell_type": "code",
   "execution_count": 49,
   "id": "11165fb2",
   "metadata": {},
   "outputs": [
    {
     "data": {
      "text/plain": [
       "array([3, 5])"
      ]
     },
     "execution_count": 49,
     "metadata": {},
     "output_type": "execute_result"
    }
   ],
   "source": [
    "vec[3:7:2]"
   ]
  },
  {
   "cell_type": "markdown",
   "id": "678f7aba",
   "metadata": {},
   "source": [
    "We could still leave away the beginning or the end of the slice:"
   ]
  },
  {
   "cell_type": "code",
   "execution_count": 50,
   "id": "fbb86466",
   "metadata": {},
   "outputs": [
    {
     "data": {
      "text/plain": [
       "array([0, 2, 4, 6, 8])"
      ]
     },
     "execution_count": 50,
     "metadata": {},
     "output_type": "execute_result"
    }
   ],
   "source": [
    "vec[::2]"
   ]
  },
  {
   "cell_type": "markdown",
   "id": "ad5062f6",
   "metadata": {},
   "source": [
    "### Question 2\n",
    "Predict the output of the following commands:"
   ]
  },
  {
   "cell_type": "code",
   "execution_count": 51,
   "id": "648a913b",
   "metadata": {},
   "outputs": [
    {
     "data": {
      "text/plain": [
       "array([0, 1, 2, 3])"
      ]
     },
     "execution_count": 51,
     "metadata": {},
     "output_type": "execute_result"
    }
   ],
   "source": [
    "vec[:4]"
   ]
  },
  {
   "cell_type": "code",
   "execution_count": 52,
   "id": "477e3590",
   "metadata": {},
   "outputs": [
    {
     "data": {
      "text/plain": [
       "array([5, 7])"
      ]
     },
     "execution_count": 52,
     "metadata": {},
     "output_type": "execute_result"
    }
   ],
   "source": [
    "vec[5:9:2]"
   ]
  },
  {
   "cell_type": "code",
   "execution_count": 53,
   "id": "2e2b7275",
   "metadata": {},
   "outputs": [
    {
     "data": {
      "text/plain": [
       "array([0, 2, 4, 6])"
      ]
     },
     "execution_count": 53,
     "metadata": {},
     "output_type": "execute_result"
    }
   ],
   "source": [
    "vec[:7:2]"
   ]
  },
  {
   "cell_type": "code",
   "execution_count": 54,
   "id": "0a9d2644",
   "metadata": {},
   "outputs": [
    {
     "data": {
      "text/plain": [
       "array([2, 4, 6, 8])"
      ]
     },
     "execution_count": 54,
     "metadata": {},
     "output_type": "execute_result"
    }
   ],
   "source": [
    "vec[2::2]"
   ]
  },
  {
   "cell_type": "markdown",
   "id": "07dbe199",
   "metadata": {},
   "source": [
    "### Boolean indexing"
   ]
  },
  {
   "cell_type": "markdown",
   "id": "2f7784df",
   "metadata": {},
   "source": [
    "Do you remember how to create an array that is true if and only if `vec` is smaller than 5?"
   ]
  },
  {
   "cell_type": "code",
   "execution_count": 55,
   "id": "8224dd0a",
   "metadata": {},
   "outputs": [
    {
     "data": {
      "text/plain": [
       "array([0, 1, 2, 3, 4, 5, 6, 7, 8, 9])"
      ]
     },
     "execution_count": 55,
     "metadata": {},
     "output_type": "execute_result"
    }
   ],
   "source": [
    "vec = np.arange(10)\n",
    "vec"
   ]
  },
  {
   "cell_type": "code",
   "execution_count": 56,
   "id": "5fa0da56",
   "metadata": {},
   "outputs": [
    {
     "data": {
      "text/plain": [
       "array([ True,  True,  True,  True,  True,  True, False, False, False,\n",
       "       False])"
      ]
     },
     "execution_count": 56,
     "metadata": {},
     "output_type": "execute_result"
    }
   ],
   "source": [
    "selector = vec <= 5\n",
    "selector"
   ]
  },
  {
   "cell_type": "markdown",
   "id": "baee1cd7",
   "metadata": {},
   "source": [
    "You can use these boolean arrays to subset the corresponding true values."
   ]
  },
  {
   "cell_type": "code",
   "execution_count": 57,
   "id": "bbab66b1",
   "metadata": {},
   "outputs": [
    {
     "data": {
      "text/plain": [
       "array([0, 1, 2, 3, 4, 5, 6, 7, 8, 9])"
      ]
     },
     "execution_count": 57,
     "metadata": {},
     "output_type": "execute_result"
    }
   ],
   "source": [
    "vec"
   ]
  },
  {
   "cell_type": "code",
   "execution_count": 58,
   "id": "bf2c59a8",
   "metadata": {},
   "outputs": [
    {
     "data": {
      "text/plain": [
       "array([0, 1, 2, 3, 4, 5])"
      ]
     },
     "execution_count": 58,
     "metadata": {},
     "output_type": "execute_result"
    }
   ],
   "source": [
    "vec[selector]"
   ]
  },
  {
   "cell_type": "code",
   "execution_count": 59,
   "id": "2f8b2757",
   "metadata": {},
   "outputs": [
    {
     "data": {
      "text/plain": [
       "array([0, 1, 2, 3, 4, 5])"
      ]
     },
     "execution_count": 59,
     "metadata": {},
     "output_type": "execute_result"
    }
   ],
   "source": [
    "vec[vec<=5]"
   ]
  },
  {
   "cell_type": "markdown",
   "id": "9c410878",
   "metadata": {},
   "source": [
    "You can do the same with matrices:"
   ]
  },
  {
   "cell_type": "code",
   "execution_count": 60,
   "id": "dc4b31fd",
   "metadata": {},
   "outputs": [],
   "source": [
    "mat_1 = np.array([[1, 2],\n",
    "       [3, 4],\n",
    "       [5, 6]])"
   ]
  },
  {
   "cell_type": "code",
   "execution_count": 61,
   "id": "1a2719f5",
   "metadata": {},
   "outputs": [
    {
     "data": {
      "text/plain": [
       "array([[False, False],\n",
       "       [ True,  True],\n",
       "       [ True,  True]])"
      ]
     },
     "execution_count": 61,
     "metadata": {},
     "output_type": "execute_result"
    }
   ],
   "source": [
    "mat_1 >= 3"
   ]
  },
  {
   "cell_type": "code",
   "execution_count": 62,
   "id": "64702559",
   "metadata": {},
   "outputs": [
    {
     "data": {
      "text/plain": [
       "array([3, 4, 5, 6])"
      ]
     },
     "execution_count": 62,
     "metadata": {},
     "output_type": "execute_result"
    }
   ],
   "source": [
    "mat_1[mat_1 >= 3]"
   ]
  },
  {
   "cell_type": "markdown",
   "id": "50bc1a98",
   "metadata": {},
   "source": [
    "### Questions 3\n",
    "- Consider the example matrix from above and subset all entries with values between 2 and 4. You can try to do this in one line or do it through multiple lines!"
   ]
  },
  {
   "cell_type": "code",
   "execution_count": 74,
   "id": "0ed1f297",
   "metadata": {},
   "outputs": [
    {
     "data": {
      "text/plain": [
       "array([2, 3, 4])"
      ]
     },
     "execution_count": 74,
     "metadata": {},
     "output_type": "execute_result"
    }
   ],
   "source": [
    "selector = (mat_1 >=2) & (mat_1 <=4)\n",
    "mat_1[selector]"
   ]
  },
  {
   "cell_type": "markdown",
   "id": "8fb95f7e",
   "metadata": {},
   "source": [
    "# Pandas\n",
    "## Python's package for handling data\n",
    "### Motivation for pandas\n",
    "Dictionaries allow us to save multiple attributes of a particular object. For example, we can store some information about a lesson:"
   ]
  },
  {
   "cell_type": "code",
   "execution_count": 75,
   "id": "5e3ba5c3",
   "metadata": {},
   "outputs": [],
   "source": [
    "lesson_5 = {\n",
    "    'topic': 'Numpy',\n",
    "    'teacher': 'Sharon',\n",
    "    'week': 5\n",
    "}"
   ]
  },
  {
   "cell_type": "markdown",
   "id": "52632b13",
   "metadata": {},
   "source": [
    "Often, we collect multiple observations for which we record the same attributes and we'd like to store them together:"
   ]
  },
  {
   "cell_type": "code",
   "execution_count": 76,
   "id": "a581c276",
   "metadata": {},
   "outputs": [],
   "source": [
    "lesson_3 = {\n",
    "    'topic': 'Basics of Python 2',\n",
    "    'teacher': 'Sharon',\n",
    "    'week': 3\n",
    "}\n",
    "lesson_1 = {\n",
    "    'topic': 'Setting up Python',\n",
    "    'teacher': 'Abhi',\n",
    "    'week': 1\n",
    "}"
   ]
  },
  {
   "cell_type": "markdown",
   "id": "033a2e2c",
   "metadata": {},
   "source": [
    "We could go about this by storing them in a list:"
   ]
  },
  {
   "cell_type": "code",
   "execution_count": 77,
   "id": "4fff6247",
   "metadata": {},
   "outputs": [],
   "source": [
    "lst_lessons = [lesson_5, lesson_3, lesson_1]"
   ]
  },
  {
   "cell_type": "code",
   "execution_count": 78,
   "id": "b94d1b2b",
   "metadata": {},
   "outputs": [
    {
     "data": {
      "text/plain": [
       "[{'topic': 'Numpy', 'teacher': 'Sharon', 'week': 5},\n",
       " {'topic': 'Basics of Python 2', 'teacher': 'Sharon', 'week': 3},\n",
       " {'topic': 'Setting up Python', 'teacher': 'Abhi', 'week': 1}]"
      ]
     },
     "execution_count": 78,
     "metadata": {},
     "output_type": "execute_result"
    }
   ],
   "source": [
    "lst_lessons"
   ]
  },
  {
   "cell_type": "markdown",
   "id": "9bf7f2f2",
   "metadata": {},
   "source": [
    "However, such lists are lacking a lot of functionality. For example, we may want to print out only those observations where Jasmine was the teacher. We'd have to use a for loop for this:"
   ]
  },
  {
   "cell_type": "code",
   "execution_count": 79,
   "id": "3462b682",
   "metadata": {},
   "outputs": [
    {
     "data": {
      "text/plain": [
       "[{'topic': 'Numpy', 'teacher': 'Sharon', 'week': 5},\n",
       " {'topic': 'Basics of Python 2', 'teacher': 'Sharon', 'week': 3}]"
      ]
     },
     "execution_count": 79,
     "metadata": {},
     "output_type": "execute_result"
    }
   ],
   "source": [
    "sharons_lessons = [\n",
    "    lesson for lesson in lst_lessons if lesson['teacher'] == 'Sharon'\n",
    "]\n",
    "sharons_lessons"
   ]
  },
  {
   "cell_type": "markdown",
   "id": "8bc071e7",
   "metadata": {},
   "source": [
    "We therefore need a new data structure that can record multiple pieces of information about multiple observations. This is provided by `pandas` (which stands for *panel data*):"
   ]
  },
  {
   "cell_type": "code",
   "execution_count": 80,
   "id": "e3d9dea2",
   "metadata": {},
   "outputs": [],
   "source": [
    "#We normally import pandas like this\n",
    "import pandas as pd"
   ]
  },
  {
   "cell_type": "markdown",
   "id": "b48b8e88",
   "metadata": {},
   "source": [
    "The core object in pandas is a *data frame*, which consists of observations organized along its rows and different pieces of information about its observations organized along its columns."
   ]
  },
  {
   "cell_type": "code",
   "execution_count": 113,
   "id": "1c5acd53",
   "metadata": {},
   "outputs": [
    {
     "data": {
      "text/html": [
       "<div>\n",
       "<style scoped>\n",
       "    .dataframe tbody tr th:only-of-type {\n",
       "        vertical-align: middle;\n",
       "    }\n",
       "\n",
       "    .dataframe tbody tr th {\n",
       "        vertical-align: top;\n",
       "    }\n",
       "\n",
       "    .dataframe thead th {\n",
       "        text-align: right;\n",
       "    }\n",
       "</style>\n",
       "<table border=\"1\" class=\"dataframe\">\n",
       "  <thead>\n",
       "    <tr style=\"text-align: right;\">\n",
       "      <th></th>\n",
       "      <th>topic</th>\n",
       "      <th>teacher</th>\n",
       "      <th>week</th>\n",
       "    </tr>\n",
       "  </thead>\n",
       "  <tbody>\n",
       "    <tr>\n",
       "      <th>0</th>\n",
       "      <td>Numpy</td>\n",
       "      <td>Sharon</td>\n",
       "      <td>5</td>\n",
       "    </tr>\n",
       "    <tr>\n",
       "      <th>1</th>\n",
       "      <td>Basics of Python 2</td>\n",
       "      <td>Sharon</td>\n",
       "      <td>3</td>\n",
       "    </tr>\n",
       "    <tr>\n",
       "      <th>2</th>\n",
       "      <td>Setting up Python</td>\n",
       "      <td>Abhi</td>\n",
       "      <td>1</td>\n",
       "    </tr>\n",
       "  </tbody>\n",
       "</table>\n",
       "</div>"
      ],
      "text/plain": [
       "                topic teacher  week\n",
       "0               Numpy  Sharon     5\n",
       "1  Basics of Python 2  Sharon     3\n",
       "2   Setting up Python    Abhi     1"
      ]
     },
     "execution_count": 113,
     "metadata": {},
     "output_type": "execute_result"
    }
   ],
   "source": [
    "df_lessons = pd.DataFrame(lst_lessons)\n",
    "df_lessons"
   ]
  },
  {
   "cell_type": "markdown",
   "id": "ec9c40b5",
   "metadata": {},
   "source": [
    "### Finding out basic information"
   ]
  },
  {
   "cell_type": "code",
   "execution_count": 82,
   "id": "d4bd6da1",
   "metadata": {},
   "outputs": [
    {
     "data": {
      "text/plain": [
       "(3, 3)"
      ]
     },
     "execution_count": 82,
     "metadata": {},
     "output_type": "execute_result"
    }
   ],
   "source": [
    "df_lessons.shape"
   ]
  },
  {
   "cell_type": "code",
   "execution_count": 83,
   "id": "7b7770a9",
   "metadata": {},
   "outputs": [
    {
     "data": {
      "text/plain": [
       "Index(['topic', 'teacher', 'week'], dtype='object')"
      ]
     },
     "execution_count": 83,
     "metadata": {},
     "output_type": "execute_result"
    }
   ],
   "source": [
    "df_lessons.columns"
   ]
  },
  {
   "cell_type": "markdown",
   "id": "efde2867",
   "metadata": {},
   "source": [
    "### Indexing"
   ]
  },
  {
   "cell_type": "markdown",
   "id": "c1c5b376",
   "metadata": {},
   "source": [
    "Regular brackets return a specific column or a subset of columns:"
   ]
  },
  {
   "cell_type": "code",
   "execution_count": 84,
   "id": "267f1631",
   "metadata": {},
   "outputs": [
    {
     "data": {
      "text/plain": [
       "0    Sharon\n",
       "1    Sharon\n",
       "2      Abhi\n",
       "Name: teacher, dtype: object"
      ]
     },
     "execution_count": 84,
     "metadata": {},
     "output_type": "execute_result"
    }
   ],
   "source": [
    "df_lessons['teacher']"
   ]
  },
  {
   "cell_type": "markdown",
   "id": "4aea25c2",
   "metadata": {},
   "source": [
    "(*Note:* The object that is returned is called a `pd.Series` and has a few additional features compared to a one-dimensional numpy array. I personally don't use those additional features and think they are counter-productive, but you can look them up if you have to interact with them.)"
   ]
  },
  {
   "cell_type": "markdown",
   "id": "f97c70fd",
   "metadata": {},
   "source": [
    "You can operate on those columns in the same way you would operate on numpy arrays:"
   ]
  },
  {
   "cell_type": "code",
   "execution_count": 85,
   "id": "0dae51cd",
   "metadata": {},
   "outputs": [
    {
     "data": {
      "text/plain": [
       "0     True\n",
       "1     True\n",
       "2    False\n",
       "Name: teacher, dtype: bool"
      ]
     },
     "execution_count": 85,
     "metadata": {},
     "output_type": "execute_result"
    }
   ],
   "source": [
    "df_lessons['teacher'] == 'Sharon'"
   ]
  },
  {
   "cell_type": "code",
   "execution_count": 86,
   "id": "eaa14bdd",
   "metadata": {},
   "outputs": [
    {
     "data": {
      "text/html": [
       "<div>\n",
       "<style scoped>\n",
       "    .dataframe tbody tr th:only-of-type {\n",
       "        vertical-align: middle;\n",
       "    }\n",
       "\n",
       "    .dataframe tbody tr th {\n",
       "        vertical-align: top;\n",
       "    }\n",
       "\n",
       "    .dataframe thead th {\n",
       "        text-align: right;\n",
       "    }\n",
       "</style>\n",
       "<table border=\"1\" class=\"dataframe\">\n",
       "  <thead>\n",
       "    <tr style=\"text-align: right;\">\n",
       "      <th></th>\n",
       "      <th>topic</th>\n",
       "      <th>teacher</th>\n",
       "    </tr>\n",
       "  </thead>\n",
       "  <tbody>\n",
       "    <tr>\n",
       "      <th>0</th>\n",
       "      <td>Numpy</td>\n",
       "      <td>Sharon</td>\n",
       "    </tr>\n",
       "    <tr>\n",
       "      <th>1</th>\n",
       "      <td>Basics of Python 2</td>\n",
       "      <td>Sharon</td>\n",
       "    </tr>\n",
       "    <tr>\n",
       "      <th>2</th>\n",
       "      <td>Setting up Python</td>\n",
       "      <td>Abhi</td>\n",
       "    </tr>\n",
       "  </tbody>\n",
       "</table>\n",
       "</div>"
      ],
      "text/plain": [
       "                topic teacher\n",
       "0               Numpy  Sharon\n",
       "1  Basics of Python 2  Sharon\n",
       "2   Setting up Python    Abhi"
      ]
     },
     "execution_count": 86,
     "metadata": {},
     "output_type": "execute_result"
    }
   ],
   "source": [
    "df_lessons[['topic', 'teacher']]"
   ]
  },
  {
   "cell_type": "markdown",
   "id": "7c0d68f9",
   "metadata": {},
   "source": [
    "`.loc` allows you to index data frames by row numbers and column names:"
   ]
  },
  {
   "cell_type": "code",
   "execution_count": 87,
   "id": "869266b1",
   "metadata": {},
   "outputs": [
    {
     "data": {
      "text/plain": [
       "'Sharon'"
      ]
     },
     "execution_count": 87,
     "metadata": {},
     "output_type": "execute_result"
    }
   ],
   "source": [
    "df_lessons.loc[1, 'teacher']"
   ]
  },
  {
   "cell_type": "markdown",
   "id": "ebce7e79",
   "metadata": {},
   "source": [
    "This also works with slicing:"
   ]
  },
  {
   "cell_type": "code",
   "execution_count": 88,
   "id": "6fcd1f93",
   "metadata": {},
   "outputs": [
    {
     "data": {
      "text/plain": [
       "1    Sharon\n",
       "2      Abhi\n",
       "Name: teacher, dtype: object"
      ]
     },
     "execution_count": 88,
     "metadata": {},
     "output_type": "execute_result"
    }
   ],
   "source": [
    "df_lessons.loc[1:, 'teacher']"
   ]
  },
  {
   "cell_type": "code",
   "execution_count": 89,
   "id": "636daff1",
   "metadata": {},
   "outputs": [
    {
     "data": {
      "text/html": [
       "<div>\n",
       "<style scoped>\n",
       "    .dataframe tbody tr th:only-of-type {\n",
       "        vertical-align: middle;\n",
       "    }\n",
       "\n",
       "    .dataframe tbody tr th {\n",
       "        vertical-align: top;\n",
       "    }\n",
       "\n",
       "    .dataframe thead th {\n",
       "        text-align: right;\n",
       "    }\n",
       "</style>\n",
       "<table border=\"1\" class=\"dataframe\">\n",
       "  <thead>\n",
       "    <tr style=\"text-align: right;\">\n",
       "      <th></th>\n",
       "      <th>topic</th>\n",
       "      <th>teacher</th>\n",
       "    </tr>\n",
       "  </thead>\n",
       "  <tbody>\n",
       "    <tr>\n",
       "      <th>0</th>\n",
       "      <td>Numpy</td>\n",
       "      <td>Sharon</td>\n",
       "    </tr>\n",
       "    <tr>\n",
       "      <th>1</th>\n",
       "      <td>Basics of Python 2</td>\n",
       "      <td>Sharon</td>\n",
       "    </tr>\n",
       "    <tr>\n",
       "      <th>2</th>\n",
       "      <td>Setting up Python</td>\n",
       "      <td>Abhi</td>\n",
       "    </tr>\n",
       "  </tbody>\n",
       "</table>\n",
       "</div>"
      ],
      "text/plain": [
       "                topic teacher\n",
       "0               Numpy  Sharon\n",
       "1  Basics of Python 2  Sharon\n",
       "2   Setting up Python    Abhi"
      ]
     },
     "execution_count": 89,
     "metadata": {},
     "output_type": "execute_result"
    }
   ],
   "source": [
    "df_lessons.loc[:, ['topic', 'teacher']]"
   ]
  },
  {
   "cell_type": "markdown",
   "id": "72b20cef",
   "metadata": {},
   "source": [
    "`iloc` works in the same way, but allows you to access columns according to their numerical index rather than their name:"
   ]
  },
  {
   "cell_type": "code",
   "execution_count": 90,
   "id": "40cb8ab4",
   "metadata": {},
   "outputs": [
    {
     "data": {
      "text/plain": [
       "'Sharon'"
      ]
     },
     "execution_count": 90,
     "metadata": {},
     "output_type": "execute_result"
    }
   ],
   "source": [
    "df_lessons.iloc[1, 1]"
   ]
  },
  {
   "cell_type": "markdown",
   "id": "f43b1e0e",
   "metadata": {},
   "source": [
    "Finally you can also do boolean indexing with rectangular brackets."
   ]
  },
  {
   "cell_type": "code",
   "execution_count": 91,
   "id": "9313c995",
   "metadata": {},
   "outputs": [
    {
     "data": {
      "text/html": [
       "<div>\n",
       "<style scoped>\n",
       "    .dataframe tbody tr th:only-of-type {\n",
       "        vertical-align: middle;\n",
       "    }\n",
       "\n",
       "    .dataframe tbody tr th {\n",
       "        vertical-align: top;\n",
       "    }\n",
       "\n",
       "    .dataframe thead th {\n",
       "        text-align: right;\n",
       "    }\n",
       "</style>\n",
       "<table border=\"1\" class=\"dataframe\">\n",
       "  <thead>\n",
       "    <tr style=\"text-align: right;\">\n",
       "      <th></th>\n",
       "      <th>topic</th>\n",
       "      <th>teacher</th>\n",
       "      <th>week</th>\n",
       "    </tr>\n",
       "  </thead>\n",
       "  <tbody>\n",
       "    <tr>\n",
       "      <th>0</th>\n",
       "      <td>Numpy</td>\n",
       "      <td>Sharon</td>\n",
       "      <td>5</td>\n",
       "    </tr>\n",
       "    <tr>\n",
       "      <th>1</th>\n",
       "      <td>Basics of Python 2</td>\n",
       "      <td>Sharon</td>\n",
       "      <td>3</td>\n",
       "    </tr>\n",
       "  </tbody>\n",
       "</table>\n",
       "</div>"
      ],
      "text/plain": [
       "                topic teacher  week\n",
       "0               Numpy  Sharon     5\n",
       "1  Basics of Python 2  Sharon     3"
      ]
     },
     "execution_count": 91,
     "metadata": {},
     "output_type": "execute_result"
    }
   ],
   "source": [
    "selector = df_lessons['teacher'] == 'Sharon'\n",
    "df_lessons[selector]"
   ]
  },
  {
   "cell_type": "markdown",
   "id": "b4b4acbb",
   "metadata": {},
   "source": [
    "(Note that the single `=` assigns the command to the right of it to the variable on its left. The double `==` on the other hand compares the values in `df_lessons['teacher']` and determines whether they are equal to `'Jasmine'`.)"
   ]
  },
  {
   "cell_type": "code",
   "execution_count": 92,
   "id": "6c8f379f",
   "metadata": {},
   "outputs": [
    {
     "data": {
      "text/html": [
       "<div>\n",
       "<style scoped>\n",
       "    .dataframe tbody tr th:only-of-type {\n",
       "        vertical-align: middle;\n",
       "    }\n",
       "\n",
       "    .dataframe tbody tr th {\n",
       "        vertical-align: top;\n",
       "    }\n",
       "\n",
       "    .dataframe thead th {\n",
       "        text-align: right;\n",
       "    }\n",
       "</style>\n",
       "<table border=\"1\" class=\"dataframe\">\n",
       "  <thead>\n",
       "    <tr style=\"text-align: right;\">\n",
       "      <th></th>\n",
       "      <th>topic</th>\n",
       "      <th>teacher</th>\n",
       "      <th>week</th>\n",
       "    </tr>\n",
       "  </thead>\n",
       "  <tbody>\n",
       "    <tr>\n",
       "      <th>0</th>\n",
       "      <td>Numpy</td>\n",
       "      <td>Sharon</td>\n",
       "      <td>5</td>\n",
       "    </tr>\n",
       "    <tr>\n",
       "      <th>1</th>\n",
       "      <td>Basics of Python 2</td>\n",
       "      <td>Sharon</td>\n",
       "      <td>3</td>\n",
       "    </tr>\n",
       "  </tbody>\n",
       "</table>\n",
       "</div>"
      ],
      "text/plain": [
       "                topic teacher  week\n",
       "0               Numpy  Sharon     5\n",
       "1  Basics of Python 2  Sharon     3"
      ]
     },
     "execution_count": 92,
     "metadata": {},
     "output_type": "execute_result"
    }
   ],
   "source": [
    "df_lessons[df_lessons['teacher']=='Sharon']"
   ]
  },
  {
   "cell_type": "markdown",
   "id": "bb05b08e",
   "metadata": {},
   "source": [
    "Finally, you can add new columns in the same way you would add a new key, value pair to a dictionary:"
   ]
  },
  {
   "cell_type": "code",
   "execution_count": 93,
   "id": "63d9a5ae",
   "metadata": {},
   "outputs": [
    {
     "data": {
      "text/html": [
       "<div>\n",
       "<style scoped>\n",
       "    .dataframe tbody tr th:only-of-type {\n",
       "        vertical-align: middle;\n",
       "    }\n",
       "\n",
       "    .dataframe tbody tr th {\n",
       "        vertical-align: top;\n",
       "    }\n",
       "\n",
       "    .dataframe thead th {\n",
       "        text-align: right;\n",
       "    }\n",
       "</style>\n",
       "<table border=\"1\" class=\"dataframe\">\n",
       "  <thead>\n",
       "    <tr style=\"text-align: right;\">\n",
       "      <th></th>\n",
       "      <th>topic</th>\n",
       "      <th>teacher</th>\n",
       "      <th>week</th>\n",
       "    </tr>\n",
       "  </thead>\n",
       "  <tbody>\n",
       "    <tr>\n",
       "      <th>0</th>\n",
       "      <td>Numpy</td>\n",
       "      <td>Sharon</td>\n",
       "      <td>5</td>\n",
       "    </tr>\n",
       "    <tr>\n",
       "      <th>1</th>\n",
       "      <td>Basics of Python 2</td>\n",
       "      <td>Sharon</td>\n",
       "      <td>3</td>\n",
       "    </tr>\n",
       "    <tr>\n",
       "      <th>2</th>\n",
       "      <td>Setting up Python</td>\n",
       "      <td>Abhi</td>\n",
       "      <td>1</td>\n",
       "    </tr>\n",
       "  </tbody>\n",
       "</table>\n",
       "</div>"
      ],
      "text/plain": [
       "                topic teacher  week\n",
       "0               Numpy  Sharon     5\n",
       "1  Basics of Python 2  Sharon     3\n",
       "2   Setting up Python    Abhi     1"
      ]
     },
     "execution_count": 93,
     "metadata": {},
     "output_type": "execute_result"
    }
   ],
   "source": [
    "df_lessons"
   ]
  },
  {
   "cell_type": "code",
   "execution_count": 114,
   "id": "4fe415e1",
   "metadata": {},
   "outputs": [],
   "source": [
    "df_lessons['homework'] = [True, True, False]"
   ]
  },
  {
   "cell_type": "code",
   "execution_count": 97,
   "id": "87658911",
   "metadata": {},
   "outputs": [
    {
     "data": {
      "text/html": [
       "<div>\n",
       "<style scoped>\n",
       "    .dataframe tbody tr th:only-of-type {\n",
       "        vertical-align: middle;\n",
       "    }\n",
       "\n",
       "    .dataframe tbody tr th {\n",
       "        vertical-align: top;\n",
       "    }\n",
       "\n",
       "    .dataframe thead th {\n",
       "        text-align: right;\n",
       "    }\n",
       "</style>\n",
       "<table border=\"1\" class=\"dataframe\">\n",
       "  <thead>\n",
       "    <tr style=\"text-align: right;\">\n",
       "      <th></th>\n",
       "      <th>topic</th>\n",
       "      <th>teacher</th>\n",
       "      <th>week</th>\n",
       "      <th>homework</th>\n",
       "    </tr>\n",
       "  </thead>\n",
       "  <tbody>\n",
       "    <tr>\n",
       "      <th>0</th>\n",
       "      <td>Numpy</td>\n",
       "      <td>Sharon</td>\n",
       "      <td>5</td>\n",
       "      <td>True</td>\n",
       "    </tr>\n",
       "    <tr>\n",
       "      <th>1</th>\n",
       "      <td>Basics of Python 2</td>\n",
       "      <td>Sharon</td>\n",
       "      <td>3</td>\n",
       "      <td>True</td>\n",
       "    </tr>\n",
       "    <tr>\n",
       "      <th>2</th>\n",
       "      <td>Setting up Python</td>\n",
       "      <td>Abhi</td>\n",
       "      <td>1</td>\n",
       "      <td>False</td>\n",
       "    </tr>\n",
       "  </tbody>\n",
       "</table>\n",
       "</div>"
      ],
      "text/plain": [
       "                topic teacher  week  homework\n",
       "0               Numpy  Sharon     5      True\n",
       "1  Basics of Python 2  Sharon     3      True\n",
       "2   Setting up Python    Abhi     1     False"
      ]
     },
     "execution_count": 97,
     "metadata": {},
     "output_type": "execute_result"
    }
   ],
   "source": [
    "df_lessons\n"
   ]
  },
  {
   "cell_type": "markdown",
   "id": "26f6e27e",
   "metadata": {},
   "source": [
    "### Exercises\n",
    "1. Create a data frame that additionally includes this week (week 6) with the appropriate topic (pandas) and teacher (Sam).\n",
    "2. Print out the topic for the second row.\n",
    "3. Subset the data frame to only print out the lessons for week 3 and higher.\n",
    "4. Create a new data frame that also includes week 7's lesson with teacher Sam. However, you don't know the topic yet. How does `pandas` represent this information? (Hint: Create a dictionary that only contains the keys `week` and `teacher`, but not `topic`. Try adding it to the list we used above and turning it into a dataframe.)\n",
    "5. You could have alternately also represented this information as a two-dimensional array with observations structured along rows and variables structured along columns. What would the difference be and why might this be a bad idea in this case? Discuss with the other students at your table."
   ]
  },
  {
   "cell_type": "code",
   "execution_count": 120,
   "id": "69b9d3a8",
   "metadata": {},
   "outputs": [
    {
     "name": "stdout",
     "output_type": "stream",
     "text": [
      "Basics of Python 2\n",
      "                topic teacher  week homework\n",
      "0               Numpy  Sharon     5     True\n",
      "1  Basics of Python 2  Sharon     3     True\n",
      "3              Pandas     Sam     6     True\n",
      "4                 NaN    Abhi     7    False\n"
     ]
    },
    {
     "data": {
      "text/html": [
       "<div>\n",
       "<style scoped>\n",
       "    .dataframe tbody tr th:only-of-type {\n",
       "        vertical-align: middle;\n",
       "    }\n",
       "\n",
       "    .dataframe tbody tr th {\n",
       "        vertical-align: top;\n",
       "    }\n",
       "\n",
       "    .dataframe thead th {\n",
       "        text-align: right;\n",
       "    }\n",
       "</style>\n",
       "<table border=\"1\" class=\"dataframe\">\n",
       "  <thead>\n",
       "    <tr style=\"text-align: right;\">\n",
       "      <th></th>\n",
       "      <th>topic</th>\n",
       "      <th>teacher</th>\n",
       "      <th>week</th>\n",
       "      <th>homework</th>\n",
       "    </tr>\n",
       "  </thead>\n",
       "  <tbody>\n",
       "    <tr>\n",
       "      <th>0</th>\n",
       "      <td>Numpy</td>\n",
       "      <td>Sharon</td>\n",
       "      <td>5</td>\n",
       "      <td>True</td>\n",
       "    </tr>\n",
       "    <tr>\n",
       "      <th>1</th>\n",
       "      <td>Basics of Python 2</td>\n",
       "      <td>Sharon</td>\n",
       "      <td>3</td>\n",
       "      <td>True</td>\n",
       "    </tr>\n",
       "    <tr>\n",
       "      <th>2</th>\n",
       "      <td>Setting up Python</td>\n",
       "      <td>Abhi</td>\n",
       "      <td>1</td>\n",
       "      <td>False</td>\n",
       "    </tr>\n",
       "    <tr>\n",
       "      <th>3</th>\n",
       "      <td>Pandas</td>\n",
       "      <td>Sam</td>\n",
       "      <td>6</td>\n",
       "      <td>True</td>\n",
       "    </tr>\n",
       "    <tr>\n",
       "      <th>4</th>\n",
       "      <td>NaN</td>\n",
       "      <td>Abhi</td>\n",
       "      <td>7</td>\n",
       "      <td>False</td>\n",
       "    </tr>\n",
       "  </tbody>\n",
       "</table>\n",
       "</div>"
      ],
      "text/plain": [
       "                topic teacher  week homework\n",
       "0               Numpy  Sharon     5     True\n",
       "1  Basics of Python 2  Sharon     3     True\n",
       "2   Setting up Python    Abhi     1    False\n",
       "3              Pandas     Sam     6     True\n",
       "4                 NaN    Abhi     7    False"
      ]
     },
     "execution_count": 120,
     "metadata": {},
     "output_type": "execute_result"
    }
   ],
   "source": [
    "week_6 = {\n",
    "    'topic': 'Pandas',\n",
    "    'teacher': 'Sam',\n",
    "    'week': 6,\n",
    "    'homework': True\n",
    "}\n",
    "\n",
    "df_lessons.loc[3] = week_6\n",
    "print(df_lessons.loc[1,'topic'])\n",
    "\n",
    "#print(df_lessons)\n",
    "\n",
    "selector = df_lessons['week'] >= 3\n",
    "print(df_lessons[selector])\n",
    "\n",
    "week_7 = {\n",
    "    'teacher': 'Abhi',\n",
    "    'week': 7,\n",
    "    'homework': False\n",
    "}\n",
    "\n",
    "df_lessons.loc[4] = week_7\n",
    "df_lessons\n"
   ]
  },
  {
   "cell_type": "markdown",
   "id": "64048f04",
   "metadata": {},
   "source": [
    "### Saving and loading a data frame\n",
    "You can save data frames in different formats. A popular format is csv (comma-separated values), which represents each observation in one row and each variable separated by commas."
   ]
  },
  {
   "cell_type": "code",
   "execution_count": 103,
   "id": "01287e4a",
   "metadata": {},
   "outputs": [],
   "source": [
    "df_lessons.to_csv('df_lessons.csv')"
   ]
  },
  {
   "cell_type": "markdown",
   "id": "ec312e81",
   "metadata": {},
   "source": [
    "Let's inspect this file."
   ]
  },
  {
   "cell_type": "markdown",
   "id": "a6b2f786",
   "metadata": {},
   "source": [
    "We'll be using csv files today. Note that they are not always ideal. For example, they do not save the type of your different values which can lead to issues. The hdf5 format is a popular alternative (but a little more complicated to use); alternatively the feather format is lightweight and more reliable, but a little less common."
   ]
  },
  {
   "cell_type": "code",
   "execution_count": 104,
   "id": "6bb866cb",
   "metadata": {},
   "outputs": [],
   "source": [
    "df_lessons_loaded = pd.read_csv('df_lessons.csv')"
   ]
  },
  {
   "cell_type": "code",
   "execution_count": 107,
   "id": "b4b2aef1",
   "metadata": {},
   "outputs": [
    {
     "data": {
      "text/plain": [
       "numpy.int64"
      ]
     },
     "execution_count": 107,
     "metadata": {},
     "output_type": "execute_result"
    }
   ],
   "source": [
    "df_lessons_loaded\n",
    "type(df_lessons_loaded.loc[0,'week'])"
   ]
  },
  {
   "cell_type": "markdown",
   "id": "5fbb3ecd",
   "metadata": {},
   "source": [
    "### Exercises\n",
    "1. Read in the file `dot_motion.csv` using pandas and assign it to the variable `df_dm`.\n",
    "2. Try exploring the file and describe the data contained in it.\n",
    "3. Subset the data frame to only contain the observations with a reaction time of above 100.\n",
    "4. Create a new variable 'accuracy' that is 1 if the motion and the choice are matching and 0 otherwise.\n",
    "\n",
    "#### Hint for 4:\n",
    "If the motion and choice are matching, their entries should be equal. Create an array `accuracy` that contains as a boolean whether they are or are not matching. You can turn this boolean array (with True and False value) into a float array (which will assign 1 to True and 0 to False), using `accuracy.astype(float)`.\n"
   ]
  },
  {
   "cell_type": "code",
   "execution_count": 135,
   "id": "e23594fe",
   "metadata": {},
   "outputs": [],
   "source": [
    "df_dm = pd.read_csv('dot_motion.csv')\n",
    "df_dm.drop(columns='Unnamed: 0', inplace=True)"
   ]
  },
  {
   "cell_type": "code",
   "execution_count": 136,
   "id": "909b01c6",
   "metadata": {},
   "outputs": [
    {
     "data": {
      "text/html": [
       "<div>\n",
       "<style scoped>\n",
       "    .dataframe tbody tr th:only-of-type {\n",
       "        vertical-align: middle;\n",
       "    }\n",
       "\n",
       "    .dataframe tbody tr th {\n",
       "        vertical-align: top;\n",
       "    }\n",
       "\n",
       "    .dataframe thead th {\n",
       "        text-align: right;\n",
       "    }\n",
       "</style>\n",
       "<table border=\"1\" class=\"dataframe\">\n",
       "  <thead>\n",
       "    <tr style=\"text-align: right;\">\n",
       "      <th></th>\n",
       "      <th>subject</th>\n",
       "      <th>motion</th>\n",
       "      <th>noise_level</th>\n",
       "      <th>choice</th>\n",
       "      <th>reaction_time</th>\n",
       "    </tr>\n",
       "  </thead>\n",
       "  <tbody>\n",
       "    <tr>\n",
       "      <th>0</th>\n",
       "      <td>Subject 1</td>\n",
       "      <td>right</td>\n",
       "      <td>high</td>\n",
       "      <td>left</td>\n",
       "      <td>504.360449</td>\n",
       "    </tr>\n",
       "    <tr>\n",
       "      <th>1</th>\n",
       "      <td>Subject 1</td>\n",
       "      <td>right</td>\n",
       "      <td>high</td>\n",
       "      <td>right</td>\n",
       "      <td>503.477539</td>\n",
       "    </tr>\n",
       "    <tr>\n",
       "      <th>2</th>\n",
       "      <td>Subject 1</td>\n",
       "      <td>right</td>\n",
       "      <td>low</td>\n",
       "      <td>right</td>\n",
       "      <td>531.792948</td>\n",
       "    </tr>\n",
       "    <tr>\n",
       "      <th>3</th>\n",
       "      <td>Subject 1</td>\n",
       "      <td>left</td>\n",
       "      <td>high</td>\n",
       "      <td>right</td>\n",
       "      <td>529.713605</td>\n",
       "    </tr>\n",
       "    <tr>\n",
       "      <th>4</th>\n",
       "      <td>Subject 1</td>\n",
       "      <td>left</td>\n",
       "      <td>high</td>\n",
       "      <td>left</td>\n",
       "      <td>1065.592634</td>\n",
       "    </tr>\n",
       "    <tr>\n",
       "      <th>...</th>\n",
       "      <td>...</td>\n",
       "      <td>...</td>\n",
       "      <td>...</td>\n",
       "      <td>...</td>\n",
       "      <td>...</td>\n",
       "    </tr>\n",
       "    <tr>\n",
       "      <th>495</th>\n",
       "      <td>Subject 2</td>\n",
       "      <td>right</td>\n",
       "      <td>high</td>\n",
       "      <td>right</td>\n",
       "      <td>682.588538</td>\n",
       "    </tr>\n",
       "    <tr>\n",
       "      <th>496</th>\n",
       "      <td>Subject 2</td>\n",
       "      <td>left</td>\n",
       "      <td>low</td>\n",
       "      <td>left</td>\n",
       "      <td>608.847204</td>\n",
       "    </tr>\n",
       "    <tr>\n",
       "      <th>497</th>\n",
       "      <td>Subject 2</td>\n",
       "      <td>right</td>\n",
       "      <td>low</td>\n",
       "      <td>right</td>\n",
       "      <td>529.400439</td>\n",
       "    </tr>\n",
       "    <tr>\n",
       "      <th>498</th>\n",
       "      <td>Subject 2</td>\n",
       "      <td>left</td>\n",
       "      <td>low</td>\n",
       "      <td>left</td>\n",
       "      <td>600.240023</td>\n",
       "    </tr>\n",
       "    <tr>\n",
       "      <th>499</th>\n",
       "      <td>Subject 2</td>\n",
       "      <td>right</td>\n",
       "      <td>high</td>\n",
       "      <td>right</td>\n",
       "      <td>537.797189</td>\n",
       "    </tr>\n",
       "  </tbody>\n",
       "</table>\n",
       "<p>500 rows × 5 columns</p>\n",
       "</div>"
      ],
      "text/plain": [
       "       subject motion noise_level choice  reaction_time\n",
       "0    Subject 1  right        high   left     504.360449\n",
       "1    Subject 1  right        high  right     503.477539\n",
       "2    Subject 1  right         low  right     531.792948\n",
       "3    Subject 1   left        high  right     529.713605\n",
       "4    Subject 1   left        high   left    1065.592634\n",
       "..         ...    ...         ...    ...            ...\n",
       "495  Subject 2  right        high  right     682.588538\n",
       "496  Subject 2   left         low   left     608.847204\n",
       "497  Subject 2  right         low  right     529.400439\n",
       "498  Subject 2   left         low   left     600.240023\n",
       "499  Subject 2  right        high  right     537.797189\n",
       "\n",
       "[500 rows x 5 columns]"
      ]
     },
     "execution_count": 136,
     "metadata": {},
     "output_type": "execute_result"
    }
   ],
   "source": [
    "df_dm\n"
   ]
  },
  {
   "cell_type": "code",
   "execution_count": null,
   "metadata": {},
   "outputs": [
    {
     "name": "stdout",
     "output_type": "stream",
     "text": [
      "subject: 2 unique values, ['Subject 1' 'Subject 2']\n",
      "motion: 2 unique values, ['right' 'left']\n",
      "noise_level: 2 unique values, ['high' 'low']\n"
     ]
    }
   ],
   "source": [
    "\n",
    "for column in df_dm.columns[0:3]:\n",
    "    print(f\"{column}: {df_dm[column].nunique()} unique values, {df_dm[column].unique()}\")\n"
   ]
  },
  {
   "cell_type": "code",
   "execution_count": 140,
   "id": "06dec10f",
   "metadata": {},
   "outputs": [
    {
     "data": {
      "text/html": [
       "<div>\n",
       "<style scoped>\n",
       "    .dataframe tbody tr th:only-of-type {\n",
       "        vertical-align: middle;\n",
       "    }\n",
       "\n",
       "    .dataframe tbody tr th {\n",
       "        vertical-align: top;\n",
       "    }\n",
       "\n",
       "    .dataframe thead th {\n",
       "        text-align: right;\n",
       "    }\n",
       "</style>\n",
       "<table border=\"1\" class=\"dataframe\">\n",
       "  <thead>\n",
       "    <tr style=\"text-align: right;\">\n",
       "      <th></th>\n",
       "      <th>subject</th>\n",
       "      <th>motion</th>\n",
       "      <th>noise_level</th>\n",
       "      <th>choice</th>\n",
       "      <th>reaction_time</th>\n",
       "    </tr>\n",
       "  </thead>\n",
       "  <tbody>\n",
       "    <tr>\n",
       "      <th>0</th>\n",
       "      <td>Subject 1</td>\n",
       "      <td>right</td>\n",
       "      <td>high</td>\n",
       "      <td>left</td>\n",
       "      <td>504.360449</td>\n",
       "    </tr>\n",
       "    <tr>\n",
       "      <th>1</th>\n",
       "      <td>Subject 1</td>\n",
       "      <td>right</td>\n",
       "      <td>high</td>\n",
       "      <td>right</td>\n",
       "      <td>503.477539</td>\n",
       "    </tr>\n",
       "    <tr>\n",
       "      <th>2</th>\n",
       "      <td>Subject 1</td>\n",
       "      <td>right</td>\n",
       "      <td>low</td>\n",
       "      <td>right</td>\n",
       "      <td>531.792948</td>\n",
       "    </tr>\n",
       "    <tr>\n",
       "      <th>3</th>\n",
       "      <td>Subject 1</td>\n",
       "      <td>left</td>\n",
       "      <td>high</td>\n",
       "      <td>right</td>\n",
       "      <td>529.713605</td>\n",
       "    </tr>\n",
       "    <tr>\n",
       "      <th>4</th>\n",
       "      <td>Subject 1</td>\n",
       "      <td>left</td>\n",
       "      <td>high</td>\n",
       "      <td>left</td>\n",
       "      <td>1065.592634</td>\n",
       "    </tr>\n",
       "    <tr>\n",
       "      <th>...</th>\n",
       "      <td>...</td>\n",
       "      <td>...</td>\n",
       "      <td>...</td>\n",
       "      <td>...</td>\n",
       "      <td>...</td>\n",
       "    </tr>\n",
       "    <tr>\n",
       "      <th>495</th>\n",
       "      <td>Subject 2</td>\n",
       "      <td>right</td>\n",
       "      <td>high</td>\n",
       "      <td>right</td>\n",
       "      <td>682.588538</td>\n",
       "    </tr>\n",
       "    <tr>\n",
       "      <th>496</th>\n",
       "      <td>Subject 2</td>\n",
       "      <td>left</td>\n",
       "      <td>low</td>\n",
       "      <td>left</td>\n",
       "      <td>608.847204</td>\n",
       "    </tr>\n",
       "    <tr>\n",
       "      <th>497</th>\n",
       "      <td>Subject 2</td>\n",
       "      <td>right</td>\n",
       "      <td>low</td>\n",
       "      <td>right</td>\n",
       "      <td>529.400439</td>\n",
       "    </tr>\n",
       "    <tr>\n",
       "      <th>498</th>\n",
       "      <td>Subject 2</td>\n",
       "      <td>left</td>\n",
       "      <td>low</td>\n",
       "      <td>left</td>\n",
       "      <td>600.240023</td>\n",
       "    </tr>\n",
       "    <tr>\n",
       "      <th>499</th>\n",
       "      <td>Subject 2</td>\n",
       "      <td>right</td>\n",
       "      <td>high</td>\n",
       "      <td>right</td>\n",
       "      <td>537.797189</td>\n",
       "    </tr>\n",
       "  </tbody>\n",
       "</table>\n",
       "<p>500 rows × 5 columns</p>\n",
       "</div>"
      ],
      "text/plain": [
       "       subject motion noise_level choice  reaction_time\n",
       "0    Subject 1  right        high   left     504.360449\n",
       "1    Subject 1  right        high  right     503.477539\n",
       "2    Subject 1  right         low  right     531.792948\n",
       "3    Subject 1   left        high  right     529.713605\n",
       "4    Subject 1   left        high   left    1065.592634\n",
       "..         ...    ...         ...    ...            ...\n",
       "495  Subject 2  right        high  right     682.588538\n",
       "496  Subject 2   left         low   left     608.847204\n",
       "497  Subject 2  right         low  right     529.400439\n",
       "498  Subject 2   left         low   left     600.240023\n",
       "499  Subject 2  right        high  right     537.797189\n",
       "\n",
       "[500 rows x 5 columns]"
      ]
     },
     "execution_count": 140,
     "metadata": {},
     "output_type": "execute_result"
    }
   ],
   "source": [
    "#3. Subset the data frame to only contain the observations with a reaction time of above 100.\n",
    "\n",
    "df_dm[df_dm['reaction_time'] > 100]"
   ]
  },
  {
   "cell_type": "code",
   "execution_count": 141,
   "id": "b9ce01a3",
   "metadata": {},
   "outputs": [
    {
     "data": {
      "text/html": [
       "<div>\n",
       "<style scoped>\n",
       "    .dataframe tbody tr th:only-of-type {\n",
       "        vertical-align: middle;\n",
       "    }\n",
       "\n",
       "    .dataframe tbody tr th {\n",
       "        vertical-align: top;\n",
       "    }\n",
       "\n",
       "    .dataframe thead th {\n",
       "        text-align: right;\n",
       "    }\n",
       "</style>\n",
       "<table border=\"1\" class=\"dataframe\">\n",
       "  <thead>\n",
       "    <tr style=\"text-align: right;\">\n",
       "      <th></th>\n",
       "      <th>subject</th>\n",
       "      <th>motion</th>\n",
       "      <th>noise_level</th>\n",
       "      <th>choice</th>\n",
       "      <th>reaction_time</th>\n",
       "      <th>accuracy</th>\n",
       "    </tr>\n",
       "  </thead>\n",
       "  <tbody>\n",
       "    <tr>\n",
       "      <th>0</th>\n",
       "      <td>Subject 1</td>\n",
       "      <td>right</td>\n",
       "      <td>high</td>\n",
       "      <td>left</td>\n",
       "      <td>504.360449</td>\n",
       "      <td>0</td>\n",
       "    </tr>\n",
       "    <tr>\n",
       "      <th>1</th>\n",
       "      <td>Subject 1</td>\n",
       "      <td>right</td>\n",
       "      <td>high</td>\n",
       "      <td>right</td>\n",
       "      <td>503.477539</td>\n",
       "      <td>1</td>\n",
       "    </tr>\n",
       "    <tr>\n",
       "      <th>2</th>\n",
       "      <td>Subject 1</td>\n",
       "      <td>right</td>\n",
       "      <td>low</td>\n",
       "      <td>right</td>\n",
       "      <td>531.792948</td>\n",
       "      <td>1</td>\n",
       "    </tr>\n",
       "    <tr>\n",
       "      <th>3</th>\n",
       "      <td>Subject 1</td>\n",
       "      <td>left</td>\n",
       "      <td>high</td>\n",
       "      <td>right</td>\n",
       "      <td>529.713605</td>\n",
       "      <td>0</td>\n",
       "    </tr>\n",
       "    <tr>\n",
       "      <th>4</th>\n",
       "      <td>Subject 1</td>\n",
       "      <td>left</td>\n",
       "      <td>high</td>\n",
       "      <td>left</td>\n",
       "      <td>1065.592634</td>\n",
       "      <td>1</td>\n",
       "    </tr>\n",
       "    <tr>\n",
       "      <th>...</th>\n",
       "      <td>...</td>\n",
       "      <td>...</td>\n",
       "      <td>...</td>\n",
       "      <td>...</td>\n",
       "      <td>...</td>\n",
       "      <td>...</td>\n",
       "    </tr>\n",
       "    <tr>\n",
       "      <th>495</th>\n",
       "      <td>Subject 2</td>\n",
       "      <td>right</td>\n",
       "      <td>high</td>\n",
       "      <td>right</td>\n",
       "      <td>682.588538</td>\n",
       "      <td>1</td>\n",
       "    </tr>\n",
       "    <tr>\n",
       "      <th>496</th>\n",
       "      <td>Subject 2</td>\n",
       "      <td>left</td>\n",
       "      <td>low</td>\n",
       "      <td>left</td>\n",
       "      <td>608.847204</td>\n",
       "      <td>1</td>\n",
       "    </tr>\n",
       "    <tr>\n",
       "      <th>497</th>\n",
       "      <td>Subject 2</td>\n",
       "      <td>right</td>\n",
       "      <td>low</td>\n",
       "      <td>right</td>\n",
       "      <td>529.400439</td>\n",
       "      <td>1</td>\n",
       "    </tr>\n",
       "    <tr>\n",
       "      <th>498</th>\n",
       "      <td>Subject 2</td>\n",
       "      <td>left</td>\n",
       "      <td>low</td>\n",
       "      <td>left</td>\n",
       "      <td>600.240023</td>\n",
       "      <td>1</td>\n",
       "    </tr>\n",
       "    <tr>\n",
       "      <th>499</th>\n",
       "      <td>Subject 2</td>\n",
       "      <td>right</td>\n",
       "      <td>high</td>\n",
       "      <td>right</td>\n",
       "      <td>537.797189</td>\n",
       "      <td>1</td>\n",
       "    </tr>\n",
       "  </tbody>\n",
       "</table>\n",
       "<p>500 rows × 6 columns</p>\n",
       "</div>"
      ],
      "text/plain": [
       "       subject motion noise_level choice  reaction_time  accuracy\n",
       "0    Subject 1  right        high   left     504.360449         0\n",
       "1    Subject 1  right        high  right     503.477539         1\n",
       "2    Subject 1  right         low  right     531.792948         1\n",
       "3    Subject 1   left        high  right     529.713605         0\n",
       "4    Subject 1   left        high   left    1065.592634         1\n",
       "..         ...    ...         ...    ...            ...       ...\n",
       "495  Subject 2  right        high  right     682.588538         1\n",
       "496  Subject 2   left         low   left     608.847204         1\n",
       "497  Subject 2  right         low  right     529.400439         1\n",
       "498  Subject 2   left         low   left     600.240023         1\n",
       "499  Subject 2  right        high  right     537.797189         1\n",
       "\n",
       "[500 rows x 6 columns]"
      ]
     },
     "execution_count": 141,
     "metadata": {},
     "output_type": "execute_result"
    }
   ],
   "source": [
    "#4. Create a new variable 'accuracy' that is 1 if the motion and the choice are matching and 0 otherwise.\n",
    "df_dm['accuracy'] = (df_dm['motion'] == df_dm['choice']).astype(int)\n",
    "df_dm"
   ]
  }
 ],
 "metadata": {
  "kernelspec": {
   "display_name": "intropython",
   "language": "python",
   "name": "python3"
  },
  "language_info": {
   "codemirror_mode": {
    "name": "ipython",
    "version": 3
   },
   "file_extension": ".py",
   "mimetype": "text/x-python",
   "name": "python",
   "nbconvert_exporter": "python",
   "pygments_lexer": "ipython3",
   "version": "3.13.5"
  }
 },
 "nbformat": 4,
 "nbformat_minor": 5
}
