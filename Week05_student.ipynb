{
 "cells": [
  {
   "cell_type": "markdown",
   "id": "10ea1bb4",
   "metadata": {},
   "source": [
    "# **Python for Neuro:** Week 5\n",
    "\n",
    "Today, we'll review functions and learn how to use numpy!"
   ]
  },
  {
   "cell_type": "markdown",
   "id": "d3ea7636",
   "metadata": {},
   "source": [
    "## Exercise\n",
    "\n",
    "Write a function (called `collatz`) that takes in a starting value and prints out each value of the Collatz sequence. As a reminder, the rule was:\n",
    "- if the previous value $n$ was even, the next value is $n/2$.\n",
    "- if the previous value was odd, the next value is $3n+1$.\n",
    "Let the function end when the value taken is $1$."
   ]
  },
  {
   "cell_type": "code",
   "execution_count": 3,
   "id": "c8bd261c",
   "metadata": {},
   "outputs": [
    {
     "data": {
      "text/plain": [
       "[6, 3, 10, 5, 16, 8, 4, 2, 1]"
      ]
     },
     "execution_count": 3,
     "metadata": {},
     "output_type": "execute_result"
    }
   ],
   "source": [
    "def collatz(n: int) -> int:\n",
    "    sequence = [n]\n",
    "    while n != 1:\n",
    "        if n % 2 == 0:\n",
    "            n = n // 2\n",
    "            sequence.append(n)\n",
    "        else:\n",
    "            n = 3 * n + 1\n",
    "            sequence.append(n)\n",
    "    return sequence\n",
    "\n",
    "collatz(6)\n"
   ]
  },
  {
   "cell_type": "code",
   "execution_count": null,
   "id": "2fe0d941",
   "metadata": {},
   "outputs": [],
   "source": []
  },
  {
   "cell_type": "markdown",
   "id": "5e78a433",
   "metadata": {},
   "source": [
    "## return\n",
    "\n",
    "The return sequence leaves the function and returns any variable coming afterwards."
   ]
  },
  {
   "cell_type": "code",
   "execution_count": null,
   "id": "f2fd7a1e",
   "metadata": {},
   "outputs": [],
   "source": [
    "def fib_return (n):\n",
    "  \"\"\"\n",
    "  Print fibonnacci series up to n.\n",
    "  Args:\n",
    "      n (int): Maximum value of the fibonacci series to return.\n",
    "  Returns:\n",
    "      list: List of fibonacci sequence values\n",
    "  \"\"\"\n",
    "\n",
    "  fib_list = []\n",
    "  a,b = 0, 1\n",
    "  while a <n:\n",
    "    fib_list.append(a)\n",
    "    next= a+b\n",
    "    a = b\n",
    "    b = next\n",
    "  return fib_list"
   ]
  },
  {
   "cell_type": "code",
   "execution_count": null,
   "id": "f6c05bac",
   "metadata": {},
   "outputs": [],
   "source": [
    "fib_return(1000)"
   ]
  },
  {
   "cell_type": "code",
   "execution_count": null,
   "id": "b4e343c6",
   "metadata": {},
   "outputs": [],
   "source": [
    "my_fib_list = fib_return(1000)"
   ]
  },
  {
   "cell_type": "code",
   "execution_count": null,
   "id": "ce5504b1",
   "metadata": {},
   "outputs": [],
   "source": [
    "my_fib_list"
   ]
  },
  {
   "cell_type": "markdown",
   "id": "caca852c",
   "metadata": {},
   "source": [
    "## Default arguments"
   ]
  },
  {
   "cell_type": "code",
   "execution_count": null,
   "id": "8b486e32",
   "metadata": {},
   "outputs": [],
   "source": [
    "# We cannot run fib_return without specifying n:\n",
    "fib_return()"
   ]
  },
  {
   "cell_type": "code",
   "execution_count": null,
   "id": "c7fdf911",
   "metadata": {},
   "outputs": [],
   "source": [
    "# Default arguments can be specified but don't have to be:\n",
    "def fib_return (n=1):\n",
    "  \"\"\"\n",
    "  Print fibonnacci series up to n.\n",
    "  Args:\n",
    "      n (int): Maximum value of the fibonacci series to return. Default value is 1.\n",
    "  Returns:\n",
    "      list: List of fibonacci sequence values\n",
    "  \"\"\"\n",
    "\n",
    "  fib_list = []\n",
    "  a,b = 0, 1\n",
    "  while a <n:\n",
    "    fib_list.append(a)\n",
    "    next= a+b\n",
    "    a = b\n",
    "    b = next\n",
    "  return fib_list"
   ]
  },
  {
   "cell_type": "code",
   "execution_count": null,
   "id": "bb99b73b",
   "metadata": {},
   "outputs": [],
   "source": [
    "fib_return()"
   ]
  },
  {
   "cell_type": "code",
   "execution_count": null,
   "id": "1cbcfc66",
   "metadata": {},
   "outputs": [],
   "source": [
    "fib_return(10)"
   ]
  },
  {
   "cell_type": "markdown",
   "id": "3efded5d",
   "metadata": {},
   "source": [
    "## Warning about default arguments\n",
    "\n",
    "Your default arguments should never be mutable. Otherwise repeated function calls can interact with each other."
   ]
  },
  {
   "cell_type": "code",
   "execution_count": null,
   "id": "12422370",
   "metadata": {},
   "outputs": [],
   "source": [
    "# mutable arguments\n",
    "\n",
    "def f(a, L=[]):\n",
    "    L.append(a)\n",
    "    return L\n",
    "\n",
    "print(f(1)) # predict what will happen?\n",
    "print(f(2))\n",
    "print(f(3))"
   ]
  },
  {
   "cell_type": "code",
   "execution_count": null,
   "id": "ca63ead4",
   "metadata": {},
   "outputs": [],
   "source": [
    "# Which data types are mutable -> dictionaries and lists"
   ]
  },
  {
   "cell_type": "code",
   "execution_count": null,
   "id": "0299015f",
   "metadata": {},
   "outputs": [],
   "source": [
    "# Solution\n",
    "def f(a, L=None):\n",
    "    if L is None: # None now provides a marker that we would like to use the default argument.\n",
    "        L = []\n",
    "    L.append(a)\n",
    "    return L\n",
    "\n",
    "print(f(1))\n",
    "print(f(2))\n",
    "print(f(3))"
   ]
  },
  {
   "cell_type": "markdown",
   "id": "ba341f8f",
   "metadata": {},
   "source": [
    "## Exercise\n",
    "\n",
    "Modify your ```collatz``` function so that it returns a list containing the sequence instead of printing it. Set the default argument to 100."
   ]
  },
  {
   "cell_type": "code",
   "execution_count": 5,
   "id": "bf92e8b0",
   "metadata": {},
   "outputs": [
    {
     "name": "stdout",
     "output_type": "stream",
     "text": [
      "[100, 50, 25, 76, 38, 19, 58, 29, 88, 44, 22, 11, 34, 17, 52, 26, 13, 40, 20, 10, 5, 16, 8, 4, 2, 1]\n"
     ]
    }
   ],
   "source": [
    "def collatz(n: int = 100) -> int:\n",
    "    sequence = [n]\n",
    "    while n != 1:\n",
    "        if n % 2 == 0:\n",
    "            n = n // 2\n",
    "            sequence.append(n)\n",
    "        else:\n",
    "            n = 3 * n + 1\n",
    "            sequence.append(n)\n",
    "    return sequence\n",
    "\n",
    "print(collatz())"
   ]
  },
  {
   "cell_type": "markdown",
   "id": "e4c34254",
   "metadata": {},
   "source": [
    "## Numpy!\n",
    "\n",
    "Often times, we want to work with collectons of data. The simplest rendition of this is a list:"
   ]
  },
  {
   "cell_type": "code",
   "execution_count": 6,
   "id": "ea97e56e",
   "metadata": {},
   "outputs": [],
   "source": [
    "lst_1 = [25, 20, 40, 5]"
   ]
  },
  {
   "cell_type": "markdown",
   "id": "985c6d59",
   "metadata": {},
   "source": [
    "But these lists are missing a lot of functionality that we find useful for handling numerical data. (You may be used to these from Matlab or R.) For example, suppose you want to multiply each number by 2. We may want the following command to work:"
   ]
  },
  {
   "cell_type": "code",
   "execution_count": 7,
   "id": "f89b1076",
   "metadata": {},
   "outputs": [
    {
     "data": {
      "text/plain": [
       "[25, 20, 40, 5, 25, 20, 40, 5]"
      ]
     },
     "execution_count": 7,
     "metadata": {},
     "output_type": "execute_result"
    }
   ],
   "source": [
    "2*lst_1"
   ]
  },
  {
   "cell_type": "markdown",
   "id": "2cbf7d79",
   "metadata": {},
   "source": [
    "Yet its output is not what we are looking for. This is because lists are not *vectorized*: they do not assume that operations should be applied elementwise. Instead we would have to use a command like the one below:"
   ]
  },
  {
   "cell_type": "code",
   "execution_count": 8,
   "id": "5bd63723",
   "metadata": {},
   "outputs": [
    {
     "data": {
      "text/plain": [
       "[50, 40, 80, 10]"
      ]
     },
     "execution_count": 8,
     "metadata": {},
     "output_type": "execute_result"
    }
   ],
   "source": [
    "lst_2 = [lst_1[i]*2 for i in range(4)]\n",
    "lst_2"
   ]
  },
  {
   "cell_type": "markdown",
   "id": "973c8477",
   "metadata": {},
   "source": [
    "To address this and other issue that arise in handling numerical data in Python, we can use `numpy`, which stands for numerical data in Python.\n",
    "\n",
    "So far, we have exclusively used Python's base functionality. `numpy` is the first example of a package that has been contributed by external users and has to be installed manually. It is, however, integral to Python for basically anyone working with numerical data."
   ]
  },
  {
   "cell_type": "code",
   "execution_count": 9,
   "id": "f2cd1458",
   "metadata": {},
   "outputs": [],
   "source": [
    "import numpy as np"
   ]
  },
  {
   "cell_type": "markdown",
   "id": "c699fc1e",
   "metadata": {},
   "source": [
    "## One-dimensional arrays: Vectors\n",
    "The central object of interest for numpy is an *array*, which refers to rectangular data (more on this later). The simplest case of an array is a one-dimensional one, a vector. You can create a vector from a list:"
   ]
  },
  {
   "cell_type": "code",
   "execution_count": 16,
   "id": "50e5f263",
   "metadata": {},
   "outputs": [],
   "source": [
    "lst_1 = [25, 20, 40, 5]\n",
    "vec_1 = np.array(lst_1)"
   ]
  },
  {
   "cell_type": "code",
   "execution_count": 11,
   "id": "ce97e26b",
   "metadata": {},
   "outputs": [
    {
     "data": {
      "text/plain": [
       "array([25, 20, 40,  5])"
      ]
     },
     "execution_count": 11,
     "metadata": {},
     "output_type": "execute_result"
    }
   ],
   "source": [
    "vec_1"
   ]
  },
  {
   "cell_type": "code",
   "execution_count": 12,
   "id": "4c01f27a",
   "metadata": {},
   "outputs": [
    {
     "data": {
      "text/plain": [
       "numpy.ndarray"
      ]
     },
     "execution_count": 12,
     "metadata": {},
     "output_type": "execute_result"
    }
   ],
   "source": [
    "type(vec_1)"
   ]
  },
  {
   "cell_type": "markdown",
   "id": "8fbea275",
   "metadata": {},
   "source": [
    "We can also turn a vector back into a list:"
   ]
  },
  {
   "cell_type": "code",
   "execution_count": 15,
   "id": "1765cb9b",
   "metadata": {},
   "outputs": [
    {
     "data": {
      "text/plain": [
       "[np.int64(25), np.int64(20), np.int64(40), np.int64(5)]"
      ]
     },
     "execution_count": 15,
     "metadata": {},
     "output_type": "execute_result"
    }
   ],
   "source": [
    "list(vec_1)"
   ]
  },
  {
   "cell_type": "markdown",
   "id": "f79d554f",
   "metadata": {},
   "source": [
    "Using the numpy array, we can now perform mathematical operations in the way we would like (and perhaps expect from e.g. Matlab)."
   ]
  },
  {
   "cell_type": "code",
   "execution_count": 17,
   "id": "25ced9db",
   "metadata": {},
   "outputs": [
    {
     "data": {
      "text/plain": [
       "array([50, 40, 80, 10])"
      ]
     },
     "execution_count": 17,
     "metadata": {},
     "output_type": "execute_result"
    }
   ],
   "source": [
    "vec_2 = 2*vec_1\n",
    "vec_2"
   ]
  },
  {
   "cell_type": "code",
   "execution_count": 18,
   "id": "0a681e82",
   "metadata": {},
   "outputs": [
    {
     "data": {
      "text/plain": [
       "array([ 75,  60, 120,  15])"
      ]
     },
     "execution_count": 18,
     "metadata": {},
     "output_type": "execute_result"
    }
   ],
   "source": [
    "vec_1+vec_2"
   ]
  },
  {
   "cell_type": "markdown",
   "id": "7fc829c7",
   "metadata": {},
   "source": [
    "In contrast, what happens if we add two lists?"
   ]
  },
  {
   "cell_type": "code",
   "execution_count": 19,
   "id": "98d9e9c4",
   "metadata": {},
   "outputs": [
    {
     "data": {
      "text/plain": [
       "[25, 20, 40, 5, 50, 40, 80, 10]"
      ]
     },
     "execution_count": 19,
     "metadata": {},
     "output_type": "execute_result"
    }
   ],
   "source": [
    "lst_1 + lst_2"
   ]
  },
  {
   "cell_type": "markdown",
   "id": "1eecf096",
   "metadata": {},
   "source": [
    "### Differences between lists and vectors\n",
    "Both lists and vectors can be indexed and we can easily transform an array into a list and vice versa. What are some of their differences?\n",
    "#### Elementwise operations\n",
    "We have already covered that arrays have elementwise operations whereas lists do not.\n",
    "#### Each element must have the same type\n",
    "Lists can consist of elements with different types:"
   ]
  },
  {
   "cell_type": "code",
   "execution_count": 20,
   "id": "09f99a3e",
   "metadata": {},
   "outputs": [
    {
     "data": {
      "text/plain": [
       "['a', 5]"
      ]
     },
     "execution_count": 20,
     "metadata": {},
     "output_type": "execute_result"
    }
   ],
   "source": [
    "lst_3 = ['a', 5]\n",
    "lst_3"
   ]
  },
  {
   "cell_type": "markdown",
   "id": "b404bcb9",
   "metadata": {},
   "source": [
    "An array, on the other hand, will always have the same data type for each of its elements. If a list with unequal types is converted to an array all its elements are converted to the same data type."
   ]
  },
  {
   "cell_type": "code",
   "execution_count": 21,
   "id": "e43e9e7d",
   "metadata": {},
   "outputs": [
    {
     "data": {
      "text/plain": [
       "array(['a', '5'], dtype='<U21')"
      ]
     },
     "execution_count": 21,
     "metadata": {},
     "output_type": "execute_result"
    }
   ],
   "source": [
    "vec_3 = np.array(lst_3)\n",
    "vec_3"
   ]
  },
  {
   "cell_type": "markdown",
   "id": "3029433d",
   "metadata": {},
   "source": [
    "<U21 is the data type corresponding to strings. You usually don't want to rely on this automatic casting functionality and should try to avoid it."
   ]
  },
  {
   "cell_type": "code",
   "execution_count": 22,
   "id": "7a00184c",
   "metadata": {},
   "outputs": [
    {
     "data": {
      "text/plain": [
       "numpy.ndarray"
      ]
     },
     "execution_count": 22,
     "metadata": {},
     "output_type": "execute_result"
    }
   ],
   "source": [
    "type(vec_3)"
   ]
  },
  {
   "cell_type": "markdown",
   "id": "7dc18483",
   "metadata": {},
   "source": [
    "How can you print out the type of this vector? Note that `type(vec_3)` gives you the type of the entire object which is a numpy array. Rather you want the type of the individual elements. Try using the autocomplete function to find out.\n",
    "\n",
    "*Hint* look at what the type information was called above."
   ]
  },
  {
   "cell_type": "code",
   "execution_count": 26,
   "id": "08ae402f",
   "metadata": {},
   "outputs": [
    {
     "data": {
      "text/plain": [
       "dtype('<U21')"
      ]
     },
     "execution_count": 26,
     "metadata": {},
     "output_type": "execute_result"
    }
   ],
   "source": [
    "vec_3.dtype"
   ]
  },
  {
   "cell_type": "markdown",
   "id": "c788f848",
   "metadata": {},
   "source": [
    "We do we not need parentheses after `dtype`? This is because `dtype` is not function, but rather a new type of Python object called an *attribute*. These are like variables, but are limited in scope to specific objects. We will get to know them in more depth in a later lesson."
   ]
  },
  {
   "cell_type": "markdown",
   "id": "cf4b9d70",
   "metadata": {},
   "source": [
    "### Question 1\n",
    "\n",
    "- Create a numpy array with the elements 3, 7, 10 and divide each element by two\n",
    "- Create a new array `vec_4` that is the elementwise multiplication of `vec_1` and `vec_2`.\n",
    "- Create an array `vec_5` that has a `True` value wherever `vec_1` is smaller than or equal to `20` and a `False` value otherwise. *Hint:* This should be possible in a one liner."
   ]
  },
  {
   "cell_type": "code",
   "execution_count": 28,
   "id": "33b55614",
   "metadata": {},
   "outputs": [
    {
     "name": "stdout",
     "output_type": "stream",
     "text": [
      "[1.5 3.5 5. ]\n"
     ]
    }
   ],
   "source": [
    "my_array = np.array([3, 7, 10])\n",
    "halved = my_array / 2\n",
    "print(halved)"
   ]
  },
  {
   "cell_type": "code",
   "execution_count": 33,
   "id": "69c3a9dd",
   "metadata": {},
   "outputs": [
    {
     "name": "stdout",
     "output_type": "stream",
     "text": [
      "[25 20 40  5]\n",
      "[50 40 80 10]\n",
      "[1250  800 3200   50]\n"
     ]
    }
   ],
   "source": [
    "print(vec_1)\n",
    "print(vec_2)\n",
    "vec_4 = vec_1 * vec_2\n",
    "print(vec_4)"
   ]
  },
  {
   "cell_type": "code",
   "execution_count": 37,
   "id": "0783fb3d",
   "metadata": {},
   "outputs": [
    {
     "name": "stdout",
     "output_type": "stream",
     "text": [
      "[np.False_, np.True_, np.False_, np.True_]\n"
     ]
    },
    {
     "data": {
      "text/plain": [
       "[np.False_, np.True_, np.False_, np.True_]"
      ]
     },
     "execution_count": 37,
     "metadata": {},
     "output_type": "execute_result"
    }
   ],
   "source": [
    "vec_5 = [i <= 20 for i in vec_1]\n",
    "print(vec_5)\n",
    "vec_5"
   ]
  },
  {
   "cell_type": "markdown",
   "id": "13e488d9",
   "metadata": {},
   "source": [
    "## Two-dimensional arrays: Matrices\n",
    "Rectangular data in two dimensions is often called a matrix: it consists of observations organized by rows and columns. Basic Python would allow us to store such data using a list of lists:"
   ]
  },
  {
   "cell_type": "code",
   "execution_count": 38,
   "id": "be7a14de",
   "metadata": {},
   "outputs": [
    {
     "data": {
      "text/plain": [
       "[[1, 2], [3, 4], [5, 6]]"
      ]
     },
     "execution_count": 38,
     "metadata": {},
     "output_type": "execute_result"
    }
   ],
   "source": [
    "lst_1 = [\n",
    "    [1, 2],\n",
    "    [3, 4],\n",
    "    [5, 6]\n",
    "]\n",
    "lst_1"
   ]
  },
  {
   "cell_type": "markdown",
   "id": "f4454248",
   "metadata": {},
   "source": [
    "Yet the already tedious process of computing elementwise operations quickly becomes infeasible in this context. If wanted to multiply each element by two we would have to iterate over the outer list and then the inner set of lists."
   ]
  },
  {
   "cell_type": "code",
   "execution_count": 39,
   "id": "f180ca23",
   "metadata": {},
   "outputs": [
    {
     "data": {
      "text/plain": [
       "[[2, 4], [6, 8], [10, 12]]"
      ]
     },
     "execution_count": 39,
     "metadata": {},
     "output_type": "execute_result"
    }
   ],
   "source": [
    "lst_2 = [\n",
    "    [2*it2 for it2 in it] for it in lst_1\n",
    "]\n",
    "lst_2"
   ]
  },
  {
   "cell_type": "markdown",
   "id": "3c30db2d",
   "metadata": {},
   "source": [
    "Again we can turn the list of lists into a matrix simply by applying `np.array`:"
   ]
  },
  {
   "cell_type": "code",
   "execution_count": 40,
   "id": "4620477d",
   "metadata": {},
   "outputs": [
    {
     "data": {
      "text/plain": [
       "array([[1, 2],\n",
       "       [3, 4],\n",
       "       [5, 6]])"
      ]
     },
     "execution_count": 40,
     "metadata": {},
     "output_type": "execute_result"
    }
   ],
   "source": [
    "mat_1 = np.array(lst_1)\n",
    "mat_1"
   ]
  },
  {
   "cell_type": "markdown",
   "id": "9ab17186",
   "metadata": {},
   "source": [
    "Now we can apply vectorized operations as previously:"
   ]
  },
  {
   "cell_type": "code",
   "execution_count": 43,
   "id": "1a3587c5",
   "metadata": {},
   "outputs": [
    {
     "data": {
      "text/plain": [
       "array([[ 2,  4],\n",
       "       [ 6,  8],\n",
       "       [10, 12]])"
      ]
     },
     "execution_count": 43,
     "metadata": {},
     "output_type": "execute_result"
    }
   ],
   "source": [
    "mat_2 = 2*mat_1\n",
    "mat_2"
   ]
  },
  {
   "cell_type": "markdown",
   "id": "2ef55254",
   "metadata": {},
   "source": [
    "How can you find out the number of rows and columns of the matrix? Try googling or exploring the methods using the autocomplete function."
   ]
  },
  {
   "cell_type": "code",
   "execution_count": 44,
   "id": "b65b0d2d",
   "metadata": {},
   "outputs": [
    {
     "data": {
      "text/plain": [
       "(3, 2)"
      ]
     },
     "execution_count": 44,
     "metadata": {},
     "output_type": "execute_result"
    }
   ],
   "source": [
    "mat_1.shape"
   ]
  },
  {
   "cell_type": "markdown",
   "id": "6f964343",
   "metadata": {},
   "source": [
    "Importantly, numpy, by default, uses elementwise computations. So `*` results in elementwise multiplication, not matrix multiplication."
   ]
  },
  {
   "cell_type": "code",
   "execution_count": 45,
   "id": "f9e81988",
   "metadata": {},
   "outputs": [
    {
     "data": {
      "text/plain": [
       "array([[ 2,  8],\n",
       "       [18, 32],\n",
       "       [50, 72]])"
      ]
     },
     "execution_count": 45,
     "metadata": {},
     "output_type": "execute_result"
    }
   ],
   "source": [
    "mat_1*mat_2"
   ]
  },
  {
   "cell_type": "markdown",
   "id": "893fd512",
   "metadata": {},
   "source": [
    "You can run matrix multiplication by using the `@` operator."
   ]
  },
  {
   "cell_type": "code",
   "execution_count": 46,
   "id": "5096855d",
   "metadata": {},
   "outputs": [
    {
     "data": {
      "text/plain": [
       "array([[ 7, 10],\n",
       "       [15, 22],\n",
       "       [23, 34]])"
      ]
     },
     "execution_count": 46,
     "metadata": {},
     "output_type": "execute_result"
    }
   ],
   "source": [
    "mat_3 = np.array([[1,2],[3,4]])\n",
    "mat_1@mat_3"
   ]
  },
  {
   "cell_type": "markdown",
   "id": "313ad66b",
   "metadata": {},
   "source": [
    "### Saving arrays\n",
    "We can save arrays using `np.save`."
   ]
  },
  {
   "cell_type": "code",
   "execution_count": 47,
   "id": "da2ca311",
   "metadata": {},
   "outputs": [],
   "source": [
    "np.save('mat_1.npy', mat_1)"
   ]
  },
  {
   "cell_type": "code",
   "execution_count": 48,
   "id": "461e3442",
   "metadata": {},
   "outputs": [],
   "source": [
    "mat_1_copy = np.load('mat_1.npy')"
   ]
  },
  {
   "cell_type": "code",
   "execution_count": 49,
   "id": "51fb10fb",
   "metadata": {},
   "outputs": [
    {
     "data": {
      "text/plain": [
       "array([[1, 2],\n",
       "       [3, 4],\n",
       "       [5, 6]])"
      ]
     },
     "execution_count": 49,
     "metadata": {},
     "output_type": "execute_result"
    }
   ],
   "source": [
    "mat_1_copy"
   ]
  },
  {
   "cell_type": "markdown",
   "id": "c7d0c5b0",
   "metadata": {},
   "source": [
    "## Higher-dimensional arrays"
   ]
  },
  {
   "cell_type": "markdown",
   "id": "adf98280",
   "metadata": {},
   "source": [
    "We now load some simulated data, which is stored in the file `ex_array.npy`. Try assigning the data in that file to the variable `arr`."
   ]
  },
  {
   "cell_type": "code",
   "execution_count": 51,
   "id": "7f037ff1",
   "metadata": {},
   "outputs": [],
   "source": [
    "arr = np.load('ex_array.npy')"
   ]
  },
  {
   "cell_type": "markdown",
   "id": "925d022a",
   "metadata": {},
   "source": [
    "Suppose you know that what is stored in this data are spike rates of fifty different neurons for two different conditions and ten repeated measurements. Spike rates are recorded every second for 2000 seconds. How can you figure out how this data is represented in the array?"
   ]
  },
  {
   "cell_type": "code",
   "execution_count": 52,
   "id": "c1e8ea60",
   "metadata": {},
   "outputs": [
    {
     "data": {
      "text/plain": [
       "(2, 10, 50, 2000)"
      ]
     },
     "execution_count": 52,
     "metadata": {},
     "output_type": "execute_result"
    }
   ],
   "source": [
    "arr.shape"
   ]
  },
  {
   "cell_type": "code",
   "execution_count": 53,
   "id": "9b357988",
   "metadata": {},
   "outputs": [
    {
     "data": {
      "text/plain": [
       "4"
      ]
     },
     "execution_count": 53,
     "metadata": {},
     "output_type": "execute_result"
    }
   ],
   "source": [
    "arr.ndim"
   ]
  },
  {
   "cell_type": "markdown",
   "id": "49c42964",
   "metadata": {},
   "source": [
    "Whereas a vector has one dimension and a matrix has two dimensions, `arr` has four dimensions: the first one specifies the condition, the second one the trial, the third one the neuron, and the fourth one the timepoint. We can also create higher-dimensional arrays directly:"
   ]
  },
  {
   "cell_type": "code",
   "execution_count": null,
   "id": "ec4ca4bc",
   "metadata": {},
   "outputs": [],
   "source": [
    "arr_2 = np.array([\n",
    "    [[2,4,6],\n",
    "     [1,3,5]],\n",
    "    [[0.5,1,2],\n",
    "     [0.75, 1, 1.25]]\n",
    "])"
   ]
  },
  {
   "cell_type": "markdown",
   "id": "4776313b",
   "metadata": {},
   "source": [
    "What is `arr_2.ndim` and `arr_2.shape`?"
   ]
  },
  {
   "cell_type": "code",
   "execution_count": null,
   "id": "4fa2dc5f",
   "metadata": {},
   "outputs": [],
   "source": [
    "arr_2.ndim"
   ]
  },
  {
   "cell_type": "code",
   "execution_count": null,
   "id": "6ba5e563",
   "metadata": {},
   "outputs": [],
   "source": [
    "arr_2.shape"
   ]
  },
  {
   "cell_type": "markdown",
   "id": "6fe64519",
   "metadata": {},
   "source": [
    "### Data must be rectangular\n",
    "Importantly numpy only allows for rectangular data. What happens if you create an array from a list of lists with unequal length?"
   ]
  },
  {
   "cell_type": "code",
   "execution_count": null,
   "id": "4264af42",
   "metadata": {},
   "outputs": [],
   "source": [
    "mat = np.array([[1,2],[3]])"
   ]
  },
  {
   "cell_type": "code",
   "execution_count": null,
   "id": "64b0f3b4",
   "metadata": {},
   "outputs": [],
   "source": [
    "mat"
   ]
  },
  {
   "cell_type": "markdown",
   "id": "1569b071",
   "metadata": {},
   "source": [
    "### Broadcasting"
   ]
  },
  {
   "cell_type": "markdown",
   "id": "393b2b4e",
   "metadata": {},
   "source": [
    "In general you cannot add two matrices with different shapes:"
   ]
  },
  {
   "cell_type": "code",
   "execution_count": null,
   "id": "2f2c46a6",
   "metadata": {},
   "outputs": [],
   "source": [
    "mat_1.shape"
   ]
  },
  {
   "cell_type": "code",
   "execution_count": null,
   "id": "dad400e6",
   "metadata": {},
   "outputs": [],
   "source": [
    "mat_3 = np.array([\n",
    "    [1,2,3],\n",
    "    [1,2,3]\n",
    "])"
   ]
  },
  {
   "cell_type": "code",
   "execution_count": null,
   "id": "7d34f002",
   "metadata": {},
   "outputs": [],
   "source": [
    "mat_1+mat_3"
   ]
  },
  {
   "cell_type": "markdown",
   "id": "a214dff8",
   "metadata": {},
   "source": [
    "Elementwise operations can work between two arrays with unequal shapes:\n",
    "- If they match everywhere except where one of them has a dimension of length 1\n",
    "- If they have an unequal number of dimensions, the array with fewer dimensions is appended dimensions of length 1 in the beginning."
   ]
  },
  {
   "cell_type": "code",
   "execution_count": null,
   "id": "2b63d1c5",
   "metadata": {},
   "outputs": [],
   "source": [
    "np.array([\n",
    "    [1,2]\n",
    "]) + np.array([\n",
    "    [1,2],\n",
    "    [3,4],\n",
    "    [5,6]\n",
    "])"
   ]
  },
  {
   "cell_type": "markdown",
   "id": "01bb168f",
   "metadata": {},
   "source": [
    "The same thing is true for matrices with one column or other elementwise operations."
   ]
  },
  {
   "cell_type": "code",
   "execution_count": null,
   "id": "fc641db5",
   "metadata": {},
   "outputs": [],
   "source": [
    "divisor = np.array([[2], [1], [1]])"
   ]
  },
  {
   "cell_type": "code",
   "execution_count": null,
   "id": "cfb0905d",
   "metadata": {},
   "outputs": [],
   "source": [
    "divisor.shape"
   ]
  },
  {
   "cell_type": "code",
   "execution_count": null,
   "id": "c685f595",
   "metadata": {},
   "outputs": [],
   "source": [
    "mat_1"
   ]
  },
  {
   "cell_type": "code",
   "execution_count": null,
   "id": "c0a6b5c5",
   "metadata": {},
   "outputs": [],
   "source": [
    "mat_1 / divisor"
   ]
  },
  {
   "cell_type": "code",
   "execution_count": null,
   "id": "da91a5d2",
   "metadata": {},
   "outputs": [],
   "source": [
    "vec_4 = np.array([1, 2])"
   ]
  },
  {
   "cell_type": "code",
   "execution_count": null,
   "id": "4b9d57a3",
   "metadata": {},
   "outputs": [],
   "source": [
    "vec_4.shape"
   ]
  },
  {
   "cell_type": "code",
   "execution_count": null,
   "id": "57cde09f",
   "metadata": {},
   "outputs": [],
   "source": [
    "vec_4+mat_1"
   ]
  },
  {
   "cell_type": "markdown",
   "id": "4ee1ced7",
   "metadata": {},
   "source": [
    "### Creating some arrays"
   ]
  },
  {
   "cell_type": "code",
   "execution_count": null,
   "id": "c9c4adf1",
   "metadata": {},
   "outputs": [],
   "source": [
    "np.linspace(0, 1, 21)"
   ]
  },
  {
   "cell_type": "code",
   "execution_count": null,
   "id": "3c780cfc",
   "metadata": {},
   "outputs": [],
   "source": [
    "np.arange(10)"
   ]
  },
  {
   "cell_type": "code",
   "execution_count": null,
   "id": "96271d6a",
   "metadata": {},
   "outputs": [],
   "source": [
    "np.arange(1, 10, 2)"
   ]
  },
  {
   "cell_type": "code",
   "execution_count": null,
   "id": "65466e63",
   "metadata": {},
   "outputs": [],
   "source": [
    "np.ones((4, 2, 3))"
   ]
  },
  {
   "cell_type": "markdown",
   "id": "2cf1d6c2",
   "metadata": {},
   "source": [
    "### Question 2\n",
    "\n",
    "Below we're creating arrays with different shapes. Try predicting for each if elementwise addition would work, what shape the resulting array would have, then try it out and see if you were correct."
   ]
  },
  {
   "cell_type": "code",
   "execution_count": 58,
   "id": "c3b954f6",
   "metadata": {},
   "outputs": [],
   "source": [
    "arr_1 = np.ones((3,2))\n",
    "arr_2 = np.ones((2,3))\n",
    "#arr_1 + arr_2"
   ]
  },
  {
   "cell_type": "code",
   "execution_count": null,
   "id": "896f2673",
   "metadata": {},
   "outputs": [],
   "source": []
  },
  {
   "cell_type": "code",
   "execution_count": 63,
   "id": "1e44419a",
   "metadata": {},
   "outputs": [
    {
     "data": {
      "text/plain": [
       "array([[[2., 2., 2., 2., 2.],\n",
       "        [2., 2., 2., 2., 2.],\n",
       "        [2., 2., 2., 2., 2.],\n",
       "        [2., 2., 2., 2., 2.],\n",
       "        [2., 2., 2., 2., 2.],\n",
       "        [2., 2., 2., 2., 2.]],\n",
       "\n",
       "       [[2., 2., 2., 2., 2.],\n",
       "        [2., 2., 2., 2., 2.],\n",
       "        [2., 2., 2., 2., 2.],\n",
       "        [2., 2., 2., 2., 2.],\n",
       "        [2., 2., 2., 2., 2.],\n",
       "        [2., 2., 2., 2., 2.]],\n",
       "\n",
       "       [[2., 2., 2., 2., 2.],\n",
       "        [2., 2., 2., 2., 2.],\n",
       "        [2., 2., 2., 2., 2.],\n",
       "        [2., 2., 2., 2., 2.],\n",
       "        [2., 2., 2., 2., 2.],\n",
       "        [2., 2., 2., 2., 2.]],\n",
       "\n",
       "       [[2., 2., 2., 2., 2.],\n",
       "        [2., 2., 2., 2., 2.],\n",
       "        [2., 2., 2., 2., 2.],\n",
       "        [2., 2., 2., 2., 2.],\n",
       "        [2., 2., 2., 2., 2.],\n",
       "        [2., 2., 2., 2., 2.]]])"
      ]
     },
     "execution_count": 63,
     "metadata": {},
     "output_type": "execute_result"
    }
   ],
   "source": [
    "arr_1 = np.ones((4,1,5))\n",
    "arr_2 = np.ones((4,6,5))\n",
    "arr_1 + arr_2"
   ]
  },
  {
   "cell_type": "code",
   "execution_count": 65,
   "id": "ce0196eb",
   "metadata": {},
   "outputs": [
    {
     "name": "stdout",
     "output_type": "stream",
     "text": [
      "[[[1.]\n",
      "  [1.]\n",
      "  [1.]\n",
      "  [1.]\n",
      "  [1.]\n",
      "  [1.]]\n",
      "\n",
      " [[1.]\n",
      "  [1.]\n",
      "  [1.]\n",
      "  [1.]\n",
      "  [1.]\n",
      "  [1.]]\n",
      "\n",
      " [[1.]\n",
      "  [1.]\n",
      "  [1.]\n",
      "  [1.]\n",
      "  [1.]\n",
      "  [1.]]\n",
      "\n",
      " [[1.]\n",
      "  [1.]\n",
      "  [1.]\n",
      "  [1.]\n",
      "  [1.]\n",
      "  [1.]]]\n"
     ]
    }
   ],
   "source": [
    "arr_1 = np.ones((4,1,5))\n",
    "arr_2 = np.ones((4,6,1))\n",
    "print(arr_2)"
   ]
  },
  {
   "cell_type": "code",
   "execution_count": null,
   "id": "3314420a",
   "metadata": {},
   "outputs": [],
   "source": [
    "arr_1 = np.ones((4,3,5))\n",
    "arr_2 = np.ones((3,5))"
   ]
  },
  {
   "cell_type": "code",
   "execution_count": null,
   "id": "d28dd86a",
   "metadata": {},
   "outputs": [],
   "source": [
    "arr_1 = np.ones((4,3,5))\n",
    "arr_2 = np.ones((4,3))"
   ]
  },
  {
   "cell_type": "markdown",
   "id": "ae9f981e",
   "metadata": {},
   "source": [
    "## Summary operations"
   ]
  },
  {
   "cell_type": "markdown",
   "id": "d5371d14",
   "metadata": {},
   "source": [
    "Summary operations allow you to collapse an array according to a certain summary statistic. For instance, we may want to compute the overall mean firing rate in our experimental data:"
   ]
  },
  {
   "cell_type": "code",
   "execution_count": null,
   "id": "dabc55a0",
   "metadata": {},
   "outputs": [],
   "source": [
    "arr.mean()"
   ]
  },
  {
   "cell_type": "markdown",
   "id": "fd428cee",
   "metadata": {},
   "source": [
    "You can also specify the axis along we want to average. For instance, maybe we want to average firing rates across individual trials:"
   ]
  },
  {
   "cell_type": "code",
   "execution_count": null,
   "id": "ff80264d",
   "metadata": {},
   "outputs": [],
   "source": [
    "arr.shape"
   ]
  },
  {
   "cell_type": "code",
   "execution_count": null,
   "id": "aa42e345",
   "metadata": {},
   "outputs": [],
   "source": [
    "arr_across_trials = arr.mean(axis=1)"
   ]
  },
  {
   "cell_type": "code",
   "execution_count": null,
   "id": "20683dcb",
   "metadata": {},
   "outputs": [],
   "source": [
    "arr_across_trials.shape"
   ]
  },
  {
   "cell_type": "markdown",
   "id": "a7426f68",
   "metadata": {},
   "source": [
    "The `keepdims` argument means that you don't remove the dimensions you're averaging over, but rather set their length to 1:"
   ]
  },
  {
   "cell_type": "code",
   "execution_count": null,
   "id": "bf82df97",
   "metadata": {},
   "outputs": [],
   "source": [
    "arr_across_trials = arr.mean(axis=1, keepdims=True)"
   ]
  },
  {
   "cell_type": "code",
   "execution_count": null,
   "id": "e6bff9c0",
   "metadata": {},
   "outputs": [],
   "source": [
    "arr_across_trials.shape"
   ]
  },
  {
   "cell_type": "markdown",
   "id": "24869eef",
   "metadata": {},
   "source": [
    "You can average across multiple axes as well. For instance, maybe you want to average across both trials and time:"
   ]
  },
  {
   "cell_type": "code",
   "execution_count": null,
   "id": "479a52e3",
   "metadata": {},
   "outputs": [],
   "source": [
    "arr_across_trials_and_time = arr.mean(axis=(1,3))"
   ]
  },
  {
   "cell_type": "code",
   "execution_count": null,
   "id": "136474ad",
   "metadata": {},
   "outputs": [],
   "source": [
    "arr_across_trials_and_time.shape"
   ]
  },
  {
   "cell_type": "markdown",
   "id": "85925aab",
   "metadata": {},
   "source": [
    "### Question 3\n",
    "\n",
    "- What is the average firing rate across all neurons, times, and trials for each condition?\n",
    "- (Advanced.) Subtract the average firing rate per time across all neurons, trials, and conditions from the original array."
   ]
  },
  {
   "cell_type": "code",
   "execution_count": null,
   "id": "3df034e6",
   "metadata": {},
   "outputs": [],
   "source": []
  },
  {
   "cell_type": "markdown",
   "id": "20615811",
   "metadata": {},
   "source": [
    "## Indexing"
   ]
  },
  {
   "cell_type": "markdown",
   "id": "a2662c91",
   "metadata": {},
   "source": [
    "Indexing in vectors works just as in lists:"
   ]
  },
  {
   "cell_type": "code",
   "execution_count": null,
   "id": "ff3cf082",
   "metadata": {},
   "outputs": [],
   "source": [
    "vec_1"
   ]
  },
  {
   "cell_type": "code",
   "execution_count": null,
   "id": "0ba1a8e6",
   "metadata": {},
   "outputs": [],
   "source": [
    "vec_1[0]"
   ]
  },
  {
   "cell_type": "markdown",
   "id": "9ad03e2b",
   "metadata": {},
   "source": [
    "For matrices and higher-dimensional arrays, a single index selects a single row:"
   ]
  },
  {
   "cell_type": "code",
   "execution_count": null,
   "id": "0678df0b",
   "metadata": {},
   "outputs": [],
   "source": [
    "mat_1"
   ]
  },
  {
   "cell_type": "code",
   "execution_count": null,
   "id": "d847617a",
   "metadata": {},
   "outputs": [],
   "source": [
    "mat_1[0]"
   ]
  },
  {
   "cell_type": "code",
   "execution_count": null,
   "id": "54e9989e",
   "metadata": {},
   "outputs": [],
   "source": [
    "mat_1[0][1]"
   ]
  },
  {
   "cell_type": "markdown",
   "id": "1e345857",
   "metadata": {},
   "source": [
    "Instead of using two brackets, you can also separate the row and column index by a comma:"
   ]
  },
  {
   "cell_type": "code",
   "execution_count": null,
   "id": "e841f98c",
   "metadata": {},
   "outputs": [],
   "source": [
    "# The following two lines of code are equivalent\n",
    "print(mat_1[0][0])\n",
    "print(mat_1[0,0])"
   ]
  },
  {
   "cell_type": "markdown",
   "id": "49269e1d",
   "metadata": {},
   "source": [
    "### Slicing"
   ]
  },
  {
   "cell_type": "markdown",
   "id": "714893d2",
   "metadata": {},
   "source": [
    "Slicing is a useful way of extracting more than one element. In particular, `j:k` extracts the elements j,...,k-1:"
   ]
  },
  {
   "cell_type": "code",
   "execution_count": null,
   "id": "1c50071b",
   "metadata": {},
   "outputs": [],
   "source": [
    "vec = np.arange(10)\n",
    "print(vec)"
   ]
  },
  {
   "cell_type": "code",
   "execution_count": null,
   "id": "a300aad7",
   "metadata": {},
   "outputs": [],
   "source": [
    "vec[3:7]"
   ]
  },
  {
   "cell_type": "markdown",
   "id": "3023f068",
   "metadata": {},
   "source": [
    "We can leave either end of the range away and it will default to the beginning and the end of the list, respectively."
   ]
  },
  {
   "cell_type": "code",
   "execution_count": null,
   "id": "631d3c1f",
   "metadata": {},
   "outputs": [],
   "source": [
    "vec[:7]"
   ]
  },
  {
   "cell_type": "code",
   "execution_count": null,
   "id": "55d679c7",
   "metadata": {},
   "outputs": [],
   "source": [
    "vec[3:]"
   ]
  },
  {
   "cell_type": "code",
   "execution_count": null,
   "id": "ca6e0981",
   "metadata": {},
   "outputs": [],
   "source": [
    "vec[:] # What do you think this will do?"
   ]
  },
  {
   "cell_type": "markdown",
   "id": "4ee96537",
   "metadata": {},
   "source": [
    "You can therefore also use the colon to select all rows of a matrix and specific columns."
   ]
  },
  {
   "cell_type": "code",
   "execution_count": null,
   "id": "24a6bd58",
   "metadata": {},
   "outputs": [],
   "source": [
    "mat_1"
   ]
  },
  {
   "cell_type": "code",
   "execution_count": null,
   "id": "148cb5ee",
   "metadata": {},
   "outputs": [],
   "source": [
    "mat_1[:,0]"
   ]
  },
  {
   "cell_type": "markdown",
   "id": "79e12b09",
   "metadata": {},
   "source": [
    "You can add another colon to specify a step size, similarly to how you would use these three arguments in `range`."
   ]
  },
  {
   "cell_type": "code",
   "execution_count": null,
   "id": "ef82435b",
   "metadata": {},
   "outputs": [],
   "source": [
    "vec[3:7:2]"
   ]
  },
  {
   "cell_type": "markdown",
   "id": "560fb253",
   "metadata": {},
   "source": [
    "We could still leave away the beginning or the end of the slice:"
   ]
  },
  {
   "cell_type": "code",
   "execution_count": null,
   "id": "4ed8b8a4",
   "metadata": {},
   "outputs": [],
   "source": [
    "vec[::2]"
   ]
  },
  {
   "cell_type": "markdown",
   "id": "a4bc0388",
   "metadata": {},
   "source": [
    "### Question 4\n",
    "Predict the output of the following commands:"
   ]
  },
  {
   "cell_type": "code",
   "execution_count": null,
   "id": "13f704d9",
   "metadata": {},
   "outputs": [],
   "source": [
    "vec[:4]"
   ]
  },
  {
   "cell_type": "code",
   "execution_count": null,
   "id": "ce972edd",
   "metadata": {},
   "outputs": [],
   "source": [
    "vec[5:9:2]"
   ]
  },
  {
   "cell_type": "code",
   "execution_count": null,
   "id": "b0732ede",
   "metadata": {},
   "outputs": [],
   "source": [
    "vec[:7:2]"
   ]
  },
  {
   "cell_type": "code",
   "execution_count": null,
   "id": "86cd25e2",
   "metadata": {},
   "outputs": [],
   "source": [
    "vec[2::2]"
   ]
  },
  {
   "cell_type": "markdown",
   "id": "5857d0c9",
   "metadata": {},
   "source": [
    "### Boolean indexing"
   ]
  },
  {
   "cell_type": "markdown",
   "id": "90109354",
   "metadata": {},
   "source": [
    "Do you remember how to create an array that is true if and only if `vec` is smaller than 5?"
   ]
  },
  {
   "cell_type": "code",
   "execution_count": null,
   "id": "b4c5a303",
   "metadata": {},
   "outputs": [],
   "source": [
    "vec = np.arange(10)\n",
    "vec"
   ]
  },
  {
   "cell_type": "code",
   "execution_count": null,
   "id": "98efc2f0",
   "metadata": {},
   "outputs": [],
   "source": [
    "selector = vec <= 5\n",
    "selector"
   ]
  },
  {
   "cell_type": "markdown",
   "id": "6399fcc4",
   "metadata": {},
   "source": [
    "You can use these boolean arrays to subset the corresponding true values."
   ]
  },
  {
   "cell_type": "code",
   "execution_count": null,
   "id": "2a50c4e9",
   "metadata": {},
   "outputs": [],
   "source": [
    "vec"
   ]
  },
  {
   "cell_type": "code",
   "execution_count": null,
   "id": "6ef78043",
   "metadata": {},
   "outputs": [],
   "source": [
    "vec[selector]"
   ]
  },
  {
   "cell_type": "code",
   "execution_count": null,
   "id": "da035748",
   "metadata": {},
   "outputs": [],
   "source": [
    "vec[vec<=5]"
   ]
  },
  {
   "cell_type": "markdown",
   "id": "e9f59263",
   "metadata": {},
   "source": [
    "You can do the same with matrices:"
   ]
  },
  {
   "cell_type": "code",
   "execution_count": null,
   "id": "f7736ada",
   "metadata": {},
   "outputs": [],
   "source": [
    "mat_1 = np.array([[1, 2],\n",
    "       [3, 4],\n",
    "       [5, 6]])"
   ]
  },
  {
   "cell_type": "code",
   "execution_count": null,
   "id": "95397056",
   "metadata": {},
   "outputs": [],
   "source": [
    "mat_1 >= 3"
   ]
  },
  {
   "cell_type": "code",
   "execution_count": null,
   "id": "ea696335",
   "metadata": {},
   "outputs": [],
   "source": [
    "mat_1[mat_1 >= 3]"
   ]
  },
  {
   "cell_type": "markdown",
   "id": "9ebcb2f5",
   "metadata": {},
   "source": [
    "### Questions 5\n",
    "- Consider the example matrix from above and subset all entries with values between 2 and 4. You can try to do this in one line or do it through multipel lines!"
   ]
  },
  {
   "cell_type": "code",
   "execution_count": null,
   "id": "b972d21a",
   "metadata": {},
   "outputs": [],
   "source": []
  },
  {
   "cell_type": "code",
   "execution_count": null,
   "id": "562659ae",
   "metadata": {},
   "outputs": [],
   "source": []
  },
  {
   "cell_type": "markdown",
   "id": "c3ad9350",
   "metadata": {},
   "source": []
  }
 ],
 "metadata": {
  "kernelspec": {
   "display_name": "intropython",
   "language": "python",
   "name": "python3"
  },
  "language_info": {
   "codemirror_mode": {
    "name": "ipython",
    "version": 3
   },
   "file_extension": ".py",
   "mimetype": "text/x-python",
   "name": "python",
   "nbconvert_exporter": "python",
   "pygments_lexer": "ipython3",
   "version": "3.13.5"
  }
 },
 "nbformat": 4,
 "nbformat_minor": 5
}
